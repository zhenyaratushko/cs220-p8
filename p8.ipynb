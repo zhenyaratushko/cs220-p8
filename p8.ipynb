{
 "cells": [
  {
   "cell_type": "code",
   "execution_count": 1,
   "id": "8645c672",
   "metadata": {
    "cell_type": "code",
    "deletable": false,
    "editable": false
   },
   "outputs": [],
   "source": [
    "import otter\n",
    "# nb_name should be the name of your notebook without the .ipynb extension\n",
    "nb_name = \"p8\"\n",
    "py_filename = nb_name + \".py\"\n",
    "grader = otter.Notebook(nb_name + \".ipynb\")"
   ]
  },
  {
   "cell_type": "code",
   "execution_count": 2,
   "id": "504ce384",
   "metadata": {
    "deletable": false,
    "editable": false
   },
   "outputs": [],
   "source": [
    "import p8_test"
   ]
  },
  {
   "cell_type": "code",
   "execution_count": 3,
   "id": "fa5fbac6",
   "metadata": {},
   "outputs": [],
   "source": [
    "# PLEASE FILL IN THE DETAILS\n",
    "# Enter none if you don't have a project partner\n",
    "# You will have to add your partner as a group member on Gradescope even after you fill this\n",
    "\n",
    "# project: p8\n",
    "# submitter: ratushko\n",
    "# partner: ppopuri"
   ]
  },
  {
   "cell_type": "markdown",
   "id": "c3dbdc8e",
   "metadata": {
    "deletable": false,
    "editable": false
   },
   "source": [
    "# Project 8: Going to the Movies"
   ]
  },
  {
   "cell_type": "markdown",
   "id": "285cf39b",
   "metadata": {
    "deletable": false,
    "editable": false
   },
   "source": [
    "## Learning Objectives:\n",
    "\n",
    "In this project, you will demonstrate how to:\n",
    "\n",
    "* integrate relevant information from various sources (e.g. multiple csv files),\n",
    "* build appropriate data structures for organized and informative presentation (e.g. list of dictionaries),\n",
    "* practice good coding style\n",
    "\n",
    "Please go through [lab-p8](https://git.doit.wisc.edu/cdis/cs/courses/cs220/cs220-f22-projects/-/tree/main/lab-p8) before working on this project. The lab introduces some useful techniques related to this project."
   ]
  },
  {
   "cell_type": "markdown",
   "id": "c3533ec2",
   "metadata": {
    "deletable": false,
    "editable": false
   },
   "source": [
    "## Note on Academic Misconduct:\n",
    "\n",
    "**IMPORTANT**: p8 and p9 are two parts of the same data analysis. You **cannot** switch project partners between these two projects. That is if you partner up with someone for p8, you have to sustain that partnership until end of p9. Now may be a good time to review [our course policies](https://cs220.cs.wisc.edu/f22/syllabus.html)."
   ]
  },
  {
   "cell_type": "markdown",
   "id": "ba644259",
   "metadata": {
    "deletable": false,
    "editable": false
   },
   "source": [
    "## Testing your code:\n",
    "\n",
    "Along with this notebook, you must have downloaded the file `p8_test.py`. If you are curious about how we test your code, you can explore this file, and specifically the value of the variable `expected_json`, to understand the expected answers to the questions."
   ]
  },
  {
   "cell_type": "markdown",
   "id": "037dbf1b",
   "metadata": {
    "deletable": false,
    "editable": false
   },
   "source": [
    "## Introduction:\n",
    "\n",
    "In this project and the next, we will be working on the [IMDb Movies Dataset](https://www.imdb.com/interfaces/). We will use Python to discover some cool facts about our favorite movies, cast, and directors.\n",
    "\n",
    "In this project, you will combine the data from the movie and mapping files into a more useful format.\n",
    "Start by downloading the following files: `p8_test.py`, `small_mapping.csv`, `small_movies.csv`, `mapping.csv`, and `movies.csv`."
   ]
  },
  {
   "cell_type": "markdown",
   "id": "a602bb94",
   "metadata": {
    "deletable": false,
    "editable": false
   },
   "source": [
    "## The Data:\n",
    "\n",
    "Open `movies.csv` and `mapping.csv` in any spreadsheet viewer, and see what the data looks like.\n",
    "`movies.csv` has ~100,000 rows and `mapping.csv` has ~350,000 rows. These files store information about **every** movie on the IMDb dataset which was released in the US. These datasets are **very** large when compared to `small_movies.csv` and `small_mapping.csv` from [lab-p8](https://github.com/msyamkumar/cs220-f22-projects/tree/main/lab-p8), but the data is stored in the **same format**. For description of the datasets, please refer back to [lab-p8](https://github.com/msyamkumar/cs220-f22-projects/tree/main/lab-p8).\n",
    "\n",
    "Before we start working with these very large datasets, let us start with the much smaller datasets, `small_movies.csv` and `small_mapping.csv` from lab-p8. In the latter half of p8 and in p9, you will be working with `movies.csv` and `mapping.csv`. Since the files `movies.csv` and `mapping.csv` are large, some of the functions you write in p8 and p9 **may take a while to execute**. You do not have to panic if a single cell takes between 5 to 10 seconds to run. If any cell takes significantly longer, follow the recommendations below:\n",
    "\n",
    "- **Do not** calling **slow functions** multiple times within a loop.\n",
    "- **Do not** calling functions that **iterate over the entire dataset within a loop**; instead, call the function before the loop and store the result in a variable.\n",
    "- **Do not** compute quantities **inside a loop** if it can be computed outside the loop; for example, if you want to calculate the average of a list, you should use the loop to find the numerator and denominator but divide **once** after the loop ends instead of inside the loop."
   ]
  },
  {
   "cell_type": "markdown",
   "id": "1a564432",
   "metadata": {
    "deletable": false,
    "editable": false
   },
   "source": [
    "## Project Requirements:\n",
    "\n",
    "You **may not** hardcode indices in your code, unless the question explicitly . If you open your `.csv` files with Excel, manually count through the rows and use this number to loop through the dataset, this is also considered as hardcoding. We'll **manually deduct** points from your autograder score on Gradescope during code review.\n",
    "\n",
    "**Store** your final answer for each question in the **variable specified for each question**. This step is important because Otter grades your work by comparing the value of this variable against the correct answer.\n",
    "\n",
    "For some of the questions, we'll ask you to write (then use) a function to compute the answer. If you compute the answer **without** creating the function we ask you to write, we'll **manually deduct** points from your autograder score on Gradescope, even if the way you did it produced the correct answer.\n",
    "\n",
    "Required Functions:\n",
    "- `get_mapping`\n",
    "- `get_raw_movies`\n",
    "- `get_movies`\n",
    "- `find_specific_movies`\n",
    "- `bucketize_by_genre`\n",
    "\n",
    "In this project, you will also be required to define certain **data structures**. If you do not create these data structures exactly as specified, we'll **manually deduct** points from your autograder score on Gradescope, even if the way you did it produced the correct answer.\n",
    "\n",
    "Required Data Structures:\n",
    "- `small_movies`\n",
    "- `movies`\n",
    "- `genre_dict`\n",
    "\n",
    "You are only allowed to define these data structures **once** and we'll **manually deduct** points from your autograder score on Gradescope if you redefine the values of these variables.\n",
    "\n",
    "In this project (and the next), you will be asked to create **lists** of movies. For all such questions, **unless it is explicitly mentioned otherwise**, the movies should be in the **same order** as in the `movies.csv` (or `small_movies.csv`) file. Similarly, for each movie, the **list** of `genres`, `directors`, and `cast` members should always be in the **same order** as in the `movies.csv` (or `small_movies.csv`) file.\n",
    "\n",
    "Students are only allowed to use Python commands and concepts that have been taught in the course prior to the release of p8. Therefore, you should not use the pandas module.  We will **manually deduct** points from your autograder score on Gradescope otherwise.\n",
    "\n",
    "In addition, you are also **required** to follow the requirements below:\n",
    "- **Do not use the method `csv.DictReader` for p8**. Although the required output can be obtained using this method, one of the learning outcomes of this project is to demonstrate your ability to build dictionaries with your own code.  \n",
    "- Additional import statements beyond those that are stated in the directions are not allowed. For this project, we allow you to use `csv` and `copy` packages (that is, you can use the `import csv` and `import copy` statements in your submission). You should not use concepts / modules that are yet to be covered in this course; for example: you should not use modules like `pandas`. **We'll manually deduct points** accordingly, if you don't follow the provided directions.\n",
    "\n",
    "For more details on what will cause you to lose points during code review and specific requirements, please take a look at the [Grading rubric](https://git.doit.wisc.edu/cdis/cs/courses/cs220/cs220-f22-projects/-/blob/main/p8/rubric.md).\n"
   ]
  },
  {
   "cell_type": "markdown",
   "id": "e060d3ff",
   "metadata": {
    "deletable": false,
    "editable": false
   },
   "source": [
    "## Questions and Functions:\n",
    "\n",
    "Let us start by importing all the modules we will need for this project.\n",
    "\n"
   ]
  },
  {
   "cell_type": "code",
   "execution_count": 4,
   "id": "7b0a0757",
   "metadata": {
    "tags": []
   },
   "outputs": [],
   "source": [
    "# it is considered a good coding practice to place all import statements at the top of the notebook\n",
    "# please place all your import statements in this cell if you need to import any more modules for this project\n",
    "import csv\n",
    "import copy"
   ]
  },
  {
   "cell_type": "markdown",
   "id": "42a92141",
   "metadata": {
    "deletable": false,
    "editable": false
   },
   "source": [
    "### Function 1: `get_mapping(path)`\n",
    "\n",
    "We require you to complete the below function to answer the next several questions (this is a **requirement**, and you will **lose points** if you do not implement this function). You may copy/paste code from your lab-p8 notebook to finish this function."
   ]
  },
  {
   "cell_type": "code",
   "execution_count": 5,
   "id": "edf5ea49",
   "metadata": {},
   "outputs": [],
   "source": [
    "def process_csv(filename):\n",
    "    example_file = open(filename, encoding=\"utf-8\")\n",
    "    example_reader = csv.reader(example_file)\n",
    "    example_data = list(example_reader)\n",
    "    example_file.close()\n",
    "    return example_data "
   ]
  },
  {
   "cell_type": "code",
   "execution_count": 6,
   "id": "7f9974b0",
   "metadata": {
    "tags": []
   },
   "outputs": [],
   "source": [
    "map_dict = {}\n",
    "def get_mapping(path):\n",
    "    \"\"\"\n",
    "    get_mapping(path) converts a mapping csv in 'path' \n",
    "    into a dict with keys as IDs and values as names\n",
    "    \"\"\" \n",
    "    for row in process_csv(path):\n",
    "        map_dict[row[0]] = row[1]\n",
    "        \n",
    "    return map_dict\n",
    "#     replace with your code\n",
    "#     TODO: process path\n",
    "#     TODO: create a dictionary  \n",
    "#     TODO: iterate through each row of processed path\n",
    "#     TODO: map value in first column (ID) to value in second column (name/title)"
   ]
  },
  {
   "cell_type": "markdown",
   "id": "1f1d06c8",
   "metadata": {
    "deletable": false,
    "editable": false
   },
   "source": [
    "**Question 1:** What is returned by `get_mapping(\"small_mapping.csv\")`?\n",
    "\n",
    "Your output **must** be a **dictionary** which maps the *IDs* in `small_mapping.csv` to *names*."
   ]
  },
  {
   "cell_type": "code",
   "execution_count": 7,
   "id": "ea02bcd6",
   "metadata": {
    "tags": []
   },
   "outputs": [
    {
     "data": {
      "text/plain": [
       "{'tt3104988': 'Crazy Rich Asians',\n",
       " 'nm0160840': 'Jon M. Chu',\n",
       " 'nm2090422': 'Constance Wu',\n",
       " 'nm6525901': 'Henry Golding',\n",
       " 'nm0000706': 'Michelle Yeoh',\n",
       " 'nm2110418': 'Gemma Chan',\n",
       " 'nm0523734': 'Lisa Lu',\n",
       " 'tt4846340': 'Hidden Figures',\n",
       " 'nm0577647': 'Theodore Melfi',\n",
       " 'nm0378245': 'Taraji P. Henson',\n",
       " 'nm0818055': 'Octavia Spencer',\n",
       " 'nm1847117': 'Janelle Monáe'}"
      ]
     },
     "execution_count": 7,
     "metadata": {},
     "output_type": "execute_result"
    }
   ],
   "source": [
    "# compute and store the answer in the variable 'small_mapping', then display it\n",
    "small_mapping = get_mapping(\"small_mapping.csv\")\n",
    "small_mapping"
   ]
  },
  {
   "cell_type": "code",
   "execution_count": 8,
   "id": "822054fa",
   "metadata": {
    "deletable": false,
    "editable": false
   },
   "outputs": [
    {
     "data": {
      "text/html": [
       "<p><strong><pre style='display: inline;'>q1</pre></strong> passed!</p>"
      ],
      "text/plain": [
       "q1 results: All test cases passed!"
      ]
     },
     "execution_count": 8,
     "metadata": {},
     "output_type": "execute_result"
    }
   ],
   "source": [
    "grader.check(\"q1\")"
   ]
  },
  {
   "cell_type": "markdown",
   "id": "9a666e9f",
   "metadata": {
    "deletable": false,
    "editable": false
   },
   "source": [
    "**Question 2:** What is the **value** associated with the **key** *nm2110418*?\n",
    "\n",
    "Your output **must** be a **string**."
   ]
  },
  {
   "cell_type": "code",
   "execution_count": 9,
   "id": "c2606487",
   "metadata": {
    "tags": []
   },
   "outputs": [
    {
     "data": {
      "text/plain": [
       "'Gemma Chan'"
      ]
     },
     "execution_count": 9,
     "metadata": {},
     "output_type": "execute_result"
    }
   ],
   "source": [
    "# access and store the answer in the variable 'nm2110418_value', then display it\n",
    "nm2110418_value = map_dict[\"nm2110418\"]\n",
    "nm2110418_value"
   ]
  },
  {
   "cell_type": "code",
   "execution_count": 10,
   "id": "95e8aa69",
   "metadata": {
    "deletable": false,
    "editable": false
   },
   "outputs": [
    {
     "data": {
      "text/html": [
       "<p><strong><pre style='display: inline;'>q2</pre></strong> passed!</p>"
      ],
      "text/plain": [
       "q2 results: All test cases passed!"
      ]
     },
     "execution_count": 10,
     "metadata": {},
     "output_type": "execute_result"
    }
   ],
   "source": [
    "grader.check(\"q2\")"
   ]
  },
  {
   "cell_type": "markdown",
   "id": "3edb29c2",
   "metadata": {
    "deletable": false,
    "editable": false
   },
   "source": [
    "**Question 3:** What are the **values** associated with **keys** that **begin** with *nm*?\n",
    "\n",
    "Your output **must** be a **list** of **strings**."
   ]
  },
  {
   "cell_type": "code",
   "execution_count": 11,
   "id": "4289a1d2",
   "metadata": {
    "tags": []
   },
   "outputs": [
    {
     "data": {
      "text/plain": [
       "['Jon M. Chu',\n",
       " 'Constance Wu',\n",
       " 'Henry Golding',\n",
       " 'Michelle Yeoh',\n",
       " 'Gemma Chan',\n",
       " 'Lisa Lu',\n",
       " 'Theodore Melfi',\n",
       " 'Taraji P. Henson',\n",
       " 'Octavia Spencer',\n",
       " 'Janelle Monáe']"
      ]
     },
     "execution_count": 11,
     "metadata": {},
     "output_type": "execute_result"
    }
   ],
   "source": [
    "# compute and store the answer in the variable 'nm_values', then display it\n",
    "nm_values = []\n",
    "for key in map_dict:\n",
    "    if \"nm\" in key:\n",
    "        nm_values.append(map_dict[key])\n",
    "        \n",
    "nm_values"
   ]
  },
  {
   "cell_type": "code",
   "execution_count": 12,
   "id": "7856aed4",
   "metadata": {
    "deletable": false,
    "editable": false
   },
   "outputs": [
    {
     "data": {
      "text/html": [
       "<p><strong><pre style='display: inline;'>q3</pre></strong> passed!</p>"
      ],
      "text/plain": [
       "q3 results: All test cases passed!"
      ]
     },
     "execution_count": 12,
     "metadata": {},
     "output_type": "execute_result"
    }
   ],
   "source": [
    "grader.check(\"q3\")"
   ]
  },
  {
   "cell_type": "markdown",
   "id": "7bcb2a89",
   "metadata": {
    "deletable": false,
    "editable": false
   },
   "source": [
    "**Question 4:** Find the **keys** of the people (keys **beginning** with *nm*) whose **last name** is *Spencer*.\n",
    "\n",
    "Your output **must** be a **list** of **string(s)**.\n",
    "\n",
    "**Requirements:** Your **code** must be robust and satisfy all the requirements, even if you were to run this on a larger dataset (such as `mapping.csv`). In particular:\n",
    "1. You will **lose points** if your code would find people whose **first** name or **middle** name is *Spencer* (e.g. *Spencer Garrett* or *Charlie Spencer Clark*).\n",
    "2. You will **lose points** if your code would find people whose **last** name contains *Spencer* as a **substring** (e.g. *Tara Spencer-Nairn*). The name should be **exactly** *Spencer*. \n",
    "3. You will **lose points** if your code would find any **movie titles** (e.g. *Meeting Spencer*)."
   ]
  },
  {
   "cell_type": "code",
   "execution_count": 13,
   "id": "c1e79a7b",
   "metadata": {
    "tags": []
   },
   "outputs": [
    {
     "data": {
      "text/plain": [
       "['nm0818055']"
      ]
     },
     "execution_count": 13,
     "metadata": {},
     "output_type": "execute_result"
    }
   ],
   "source": [
    "# compute and store the answer in the variable 'nm_spencer', then display it\n",
    "nm_spencer = []\n",
    "for key in map_dict:\n",
    "    if key[0:2] == \"nm\":\n",
    "        name = map_dict[key]\n",
    "        if name[-7:] == \"Spencer\":\n",
    "            nm_spencer.append(key)\n",
    "        \n",
    "nm_spencer"
   ]
  },
  {
   "cell_type": "code",
   "execution_count": 14,
   "id": "c6e22ec0",
   "metadata": {
    "deletable": false,
    "editable": false
   },
   "outputs": [
    {
     "data": {
      "text/html": [
       "<p><strong><pre style='display: inline;'>q4</pre></strong> passed!</p>"
      ],
      "text/plain": [
       "q4 results: All test cases passed!"
      ]
     },
     "execution_count": 14,
     "metadata": {},
     "output_type": "execute_result"
    }
   ],
   "source": [
    "grader.check(\"q4\")"
   ]
  },
  {
   "cell_type": "markdown",
   "id": "9232bdf3",
   "metadata": {
    "deletable": false,
    "editable": false
   },
   "source": [
    "#### Now, let's move on to reading the movie files!"
   ]
  },
  {
   "cell_type": "markdown",
   "id": "cb96c0dc",
   "metadata": {
    "deletable": false,
    "editable": false
   },
   "source": [
    "### Function 2: `get_raw_movies(path)`\n",
    "\n",
    "We require you to complete the below function to answer the next several questions (this is a **requirement**, and you will **lose points** if you do not implement this function).\n",
    "\n",
    "This function **must** return a **list** of **dictionaries**, where each **dictionary** is of the following format:\n",
    "\n",
    "```python\n",
    "   {\n",
    "        'title': <title-id>,\n",
    "        'year': <the year as an integer>,\n",
    "        'duration': <the duration as an integer>,\n",
    "        'genres': [<genre1>, <genre2>, ...],\n",
    "        'rating': <the rating as a float>,\n",
    "        'directors': [<director-id1>, <director-id2>, ...],\n",
    "        'cast': [<actor-id1>, <actor-id2>, ....]\n",
    "    }\n",
    "```\n",
    "\n",
    "Here is an example:\n",
    "\n",
    "```python\n",
    "    {\n",
    "        'title': 'tt0033313',\n",
    "        'year': 1941,\n",
    "        'duration': 59,\n",
    "        'genres': ['Western'],\n",
    "        'rating': 5.2,\n",
    "        'directors': ['nm0496505'],\n",
    "        'cast': ['nm0193318', 'nm0254381', 'nm0279961', 'nm0910294', 'nm0852305']\n",
    "    }\n",
    "```\n",
    "\n",
    "You may copy/paste code from your lab-p8 notebook to finish this function."
   ]
  },
  {
   "cell_type": "code",
   "execution_count": 15,
   "id": "e91c5e9e",
   "metadata": {
    "tags": []
   },
   "outputs": [],
   "source": [
    "def get_raw_movies(path):\n",
    "    \"\"\"\n",
    "    get_raw_movies(path) converts a movies csv in 'path' \n",
    "    into a list of dicts with column names as keys and\n",
    "    the corresponding type converted values as the values\n",
    "    \"\"\"\n",
    "    file_data = process_csv(path)\n",
    "    csv_header = file_data[0]\n",
    "    csv_rows = file_data[1:]\n",
    "    raw_movies_list = [] # use this empty list to append your dictionary\n",
    "    for row in range(len(csv_rows)):\n",
    "        movie_dict = {}\n",
    "        movie_dict[\"title\"] = csv_rows[row][csv_header.index(\"title\")]\n",
    "        movie_dict[\"year\"] = int(csv_rows[row][csv_header.index(\"year\")])\n",
    "        movie_dict[\"duration\"] = int(csv_rows[row][csv_header.index(\"duration\")])\n",
    "        movie_dict[\"genres\"] = csv_rows[row][csv_header.index(\"genres\")].split(\", \")\n",
    "        movie_dict[\"rating\"] = float(csv_rows[row][csv_header.index(\"rating\")])\n",
    "        movie_dict[\"directors\"] = csv_rows[row][csv_header.index(\"directors\")].split(\", \")\n",
    "        movie_dict[\"cast\"] = csv_rows[row][csv_header.index(\"cast\")].split(\", \")\n",
    "        raw_movies_list.append(movie_dict) # replace with your code\n",
    "        \n",
    "    return raw_movies_list"
   ]
  },
  {
   "cell_type": "markdown",
   "id": "a27fc397",
   "metadata": {
    "deletable": false,
    "editable": false
   },
   "source": [
    "**Question 5:** What is returned by `get_raw_movies(\"small_movies.csv\")`?\n",
    "\n",
    "Your output **must** be a **list** of **dictionaries** where each dictionary contains information about a movie."
   ]
  },
  {
   "cell_type": "code",
   "execution_count": 16,
   "id": "760d6376",
   "metadata": {
    "tags": []
   },
   "outputs": [
    {
     "data": {
      "text/plain": [
       "[{'title': 'tt3104988',\n",
       "  'year': 2018,\n",
       "  'duration': 120,\n",
       "  'genres': ['Comedy', 'Drama', 'Romance'],\n",
       "  'rating': 6.9,\n",
       "  'directors': ['nm0160840'],\n",
       "  'cast': ['nm2090422', 'nm6525901', 'nm0000706', 'nm2110418', 'nm0523734']},\n",
       " {'title': 'tt4846340',\n",
       "  'year': 2016,\n",
       "  'duration': 127,\n",
       "  'genres': ['Biography', 'Drama', 'History'],\n",
       "  'rating': 7.8,\n",
       "  'directors': ['nm0577647'],\n",
       "  'cast': ['nm0378245', 'nm0818055', 'nm1847117']}]"
      ]
     },
     "execution_count": 16,
     "metadata": {},
     "output_type": "execute_result"
    }
   ],
   "source": [
    "# compute and store the answer in the variable 'raw_small_movies', then display it\n",
    "raw_small_movies = get_raw_movies(\"small_movies.csv\")\n",
    "raw_small_movies"
   ]
  },
  {
   "cell_type": "code",
   "execution_count": 17,
   "id": "5c5b3731",
   "metadata": {
    "deletable": false,
    "editable": false
   },
   "outputs": [
    {
     "data": {
      "text/html": [
       "<p><strong><pre style='display: inline;'>q5</pre></strong> passed!</p>"
      ],
      "text/plain": [
       "q5 results: All test cases passed!"
      ]
     },
     "execution_count": 17,
     "metadata": {},
     "output_type": "execute_result"
    }
   ],
   "source": [
    "grader.check(\"q5\")"
   ]
  },
  {
   "cell_type": "markdown",
   "id": "41143f42",
   "metadata": {
    "deletable": false,
    "editable": false
   },
   "source": [
    "If your answer looks correct, but does not pass `grader.check`, make sure that the **datatypes** are all correct. Also make sure that the **directors** and **cast**  are in the **same order** as in `small_movies.csv`."
   ]
  },
  {
   "cell_type": "markdown",
   "id": "a634eb65",
   "metadata": {
    "deletable": false,
    "editable": false
   },
   "source": [
    "**Question 6:** How **many** cast members does the **first** movie have?\n",
    "\n",
    "Your output **must** be an **int**."
   ]
  },
  {
   "cell_type": "code",
   "execution_count": 18,
   "id": "9cfed920",
   "metadata": {
    "tags": []
   },
   "outputs": [
    {
     "data": {
      "text/plain": [
       "5"
      ]
     },
     "execution_count": 18,
     "metadata": {},
     "output_type": "execute_result"
    }
   ],
   "source": [
    "# compute and store the answer in the variable 'num_cast_first_movie', then display it\n",
    "num_cast_first_movie = len(get_raw_movies(\"small_movies.csv\")[0][\"cast\"])\n",
    "num_cast_first_movie"
   ]
  },
  {
   "cell_type": "code",
   "execution_count": 19,
   "id": "dce007ca",
   "metadata": {
    "deletable": false,
    "editable": false
   },
   "outputs": [
    {
     "data": {
      "text/html": [
       "<p><strong><pre style='display: inline;'>q6</pre></strong> passed!</p>"
      ],
      "text/plain": [
       "q6 results: All test cases passed!"
      ]
     },
     "execution_count": 19,
     "metadata": {},
     "output_type": "execute_result"
    }
   ],
   "source": [
    "grader.check(\"q6\")"
   ]
  },
  {
   "cell_type": "markdown",
   "id": "21365df9",
   "metadata": {
    "deletable": false,
    "editable": false
   },
   "source": [
    "**Question 7:** What is the *ID* of the **first** cast member listed for the **first** movie of the dataset?\n",
    "\n",
    "Your output **must** be a **string**."
   ]
  },
  {
   "cell_type": "code",
   "execution_count": 20,
   "id": "7bfa3bbb",
   "metadata": {
    "tags": []
   },
   "outputs": [
    {
     "data": {
      "text/plain": [
       "'nm2090422'"
      ]
     },
     "execution_count": 20,
     "metadata": {},
     "output_type": "execute_result"
    }
   ],
   "source": [
    "# compute and store the answer in the variable 'first_actor_id_first_movie', then display it\n",
    "first_actor_id_first_movie = get_raw_movies(\"small_movies.csv\")[0][\"cast\"][0]\n",
    "first_actor_id_first_movie"
   ]
  },
  {
   "cell_type": "code",
   "execution_count": 21,
   "id": "38711e1e",
   "metadata": {
    "deletable": false,
    "editable": false
   },
   "outputs": [
    {
     "data": {
      "text/html": [
       "<p><strong><pre style='display: inline;'>q7</pre></strong> passed!</p>"
      ],
      "text/plain": [
       "q7 results: All test cases passed!"
      ]
     },
     "execution_count": 21,
     "metadata": {},
     "output_type": "execute_result"
    }
   ],
   "source": [
    "grader.check(\"q7\")"
   ]
  },
  {
   "cell_type": "markdown",
   "id": "46268cb1",
   "metadata": {
    "deletable": false,
    "editable": false
   },
   "source": [
    "### Function 3: `get_movies(movies_path, mapping_path)`\n",
    "\n",
    "We require you to complete the below function to answer the next several questions (this is a **requirement**, and you will **lose points** if you do not implement this function).\n",
    "\n",
    "\n",
    "This function **must** return a **list** of **dictionaries**, where each **dictionary** is of the following format:\n",
    "\n",
    "```python\n",
    "   {\n",
    "        'title': \"the movie name\",\n",
    "        'year': <the year as an integer>,\n",
    "        'duration': <the duration as an integer>,\n",
    "        'genres': [<genre1>, <genre2>, ...],\n",
    "        'rating': <the rating as a float>,\n",
    "        'directors': [\"director-name1\", \"director-name2\", ...],\n",
    "        'cast': [\"actor-name1\", \"actor-name2\", ....]\n",
    "    }\n",
    "```\n",
    "\n",
    "Here is an example:\n",
    "\n",
    "```python\n",
    "    {\n",
    "        'title': 'Across the Sierras',\n",
    "        'year': 1941,\n",
    "        'duration': 59,\n",
    "        'genres': ['Western'],\n",
    "        'rating': 5.2,\n",
    "        'directors': ['D. Ross Lederman'],\n",
    "        'cast': ['Dick Curtis', 'Bill Elliott', 'Richard Fiske', 'Luana Walters', 'Dub Taylor']\n",
    "    }\n",
    "```\n",
    "\n",
    "You may copy/paste code from your lab-p8 notebook to finish this function."
   ]
  },
  {
   "cell_type": "code",
   "execution_count": 22,
   "id": "c794fdb2",
   "metadata": {
    "tags": []
   },
   "outputs": [],
   "source": [
    "def get_movies(movies_path, mapping_path):\n",
    "    \"\"\"\n",
    "    get_movies(movies_path, mapping_path) converts a movies csv in 'movies_path' \n",
    "    into a list of dicts with column names as keys and the corresponding \n",
    "    type converted values as the values; then uses the mapping csv in 'mapping_path'\n",
    "    to replace the IDs of the titles, cast, and directors into actual names\n",
    "    \"\"\"\n",
    "    raw_movies = get_raw_movies(movies_path)\n",
    "    map_movies = get_mapping(mapping_path)\n",
    "    for movie in raw_movies:\n",
    "        movie_title_id = movie[\"title\"]\n",
    "        movie_dir_list = movie[\"directors\"]\n",
    "        movie_cast_list = movie[\"cast\"]\n",
    "        movie[\"title\"] = map_movies[movie_title_id]\n",
    "        dir_list = []\n",
    "        for dir_id in movie_dir_list:\n",
    "            dir_list.append(map_movies[dir_id])\n",
    "        movie['directors'] = dir_list\n",
    "        cast_list = []\n",
    "        for cast_id in movie_cast_list:\n",
    "            cast_list.append(map_movies[cast_id])\n",
    "        movie['cast'] = cast_list\n",
    "    return raw_movies\n",
    "    # replace this code\n",
    "    # you are allowed to call get_mapping and get_raw_movies\n",
    "    # on movies_path and mapping_path"
   ]
  },
  {
   "cell_type": "markdown",
   "id": "30a62b5a",
   "metadata": {
    "deletable": false,
    "editable": false
   },
   "source": [
    "**Question 8:** What is returned by `get_movies(\"small_movies.csv\", \"small_mapping.csv\")`?\n",
    "\n",
    "Your output **must** be a **list** of **dictionaries** where each dictionary contains information about a movie."
   ]
  },
  {
   "cell_type": "code",
   "execution_count": 23,
   "id": "a233b116",
   "metadata": {
    "tags": []
   },
   "outputs": [
    {
     "data": {
      "text/plain": [
       "[{'title': 'Crazy Rich Asians',\n",
       "  'year': 2018,\n",
       "  'duration': 120,\n",
       "  'genres': ['Comedy', 'Drama', 'Romance'],\n",
       "  'rating': 6.9,\n",
       "  'directors': ['Jon M. Chu'],\n",
       "  'cast': ['Constance Wu',\n",
       "   'Henry Golding',\n",
       "   'Michelle Yeoh',\n",
       "   'Gemma Chan',\n",
       "   'Lisa Lu']},\n",
       " {'title': 'Hidden Figures',\n",
       "  'year': 2016,\n",
       "  'duration': 127,\n",
       "  'genres': ['Biography', 'Drama', 'History'],\n",
       "  'rating': 7.8,\n",
       "  'directors': ['Theodore Melfi'],\n",
       "  'cast': ['Taraji P. Henson', 'Octavia Spencer', 'Janelle Monáe']}]"
      ]
     },
     "execution_count": 23,
     "metadata": {},
     "output_type": "execute_result"
    }
   ],
   "source": [
    "# compute and store the answer in the variable 'small_movies_data', then display it\n",
    "small_movies_data = get_movies(\"small_movies.csv\", \"small_mapping.csv\")\n",
    "small_movies_data"
   ]
  },
  {
   "cell_type": "code",
   "execution_count": 24,
   "id": "5a3c4c7d",
   "metadata": {
    "deletable": false,
    "editable": false
   },
   "outputs": [
    {
     "data": {
      "text/html": [
       "<p><strong><pre style='display: inline;'>q8</pre></strong> passed!</p>"
      ],
      "text/plain": [
       "q8 results: All test cases passed!"
      ]
     },
     "execution_count": 24,
     "metadata": {},
     "output_type": "execute_result"
    }
   ],
   "source": [
    "grader.check(\"q8\")"
   ]
  },
  {
   "cell_type": "markdown",
   "id": "9f4bded0",
   "metadata": {
    "deletable": false,
    "editable": false
   },
   "source": [
    "**Question 9:** What is `title` of the **second** movie in `small_movies_data`?\n",
    "\n",
    "Your output **must** be a **string**."
   ]
  },
  {
   "cell_type": "code",
   "execution_count": 25,
   "id": "379ccd60",
   "metadata": {
    "tags": []
   },
   "outputs": [
    {
     "data": {
      "text/plain": [
       "'Hidden Figures'"
      ]
     },
     "execution_count": 25,
     "metadata": {},
     "output_type": "execute_result"
    }
   ],
   "source": [
    "# compute and store the answer in the variable 'second_movie_title_small_movies', then display it\n",
    "second_movie_title_small_movies = get_movies(\"small_movies.csv\", \"small_mapping.csv\")[1][\"title\"]\n",
    "second_movie_title_small_movies"
   ]
  },
  {
   "cell_type": "code",
   "execution_count": 26,
   "id": "86612bef",
   "metadata": {
    "deletable": false,
    "editable": false
   },
   "outputs": [
    {
     "data": {
      "text/html": [
       "<p><strong><pre style='display: inline;'>q9</pre></strong> passed!</p>"
      ],
      "text/plain": [
       "q9 results: All test cases passed!"
      ]
     },
     "execution_count": 26,
     "metadata": {},
     "output_type": "execute_result"
    }
   ],
   "source": [
    "grader.check(\"q9\")"
   ]
  },
  {
   "cell_type": "markdown",
   "id": "c3b64019",
   "metadata": {
    "deletable": false,
    "editable": false
   },
   "source": [
    "**Question 10:** Who are the `cast` members of the **second** movie in `small_movies_data`?\n",
    "\n",
    "Your output **must** be a **list** of **string(s)**."
   ]
  },
  {
   "cell_type": "code",
   "execution_count": 27,
   "id": "ccae5a99",
   "metadata": {
    "tags": []
   },
   "outputs": [
    {
     "data": {
      "text/plain": [
       "['Taraji P. Henson', 'Octavia Spencer', 'Janelle Monáe']"
      ]
     },
     "execution_count": 27,
     "metadata": {},
     "output_type": "execute_result"
    }
   ],
   "source": [
    "# compute and store the answer in the variable 'second_movie_cast_small_movies', then display it\n",
    "second_movie_cast_small_movies = get_movies(\"small_movies.csv\", \"small_mapping.csv\")[1][\"cast\"]\n",
    "second_movie_cast_small_movies"
   ]
  },
  {
   "cell_type": "code",
   "execution_count": 28,
   "id": "f44333b3",
   "metadata": {
    "deletable": false,
    "editable": false
   },
   "outputs": [
    {
     "data": {
      "text/html": [
       "<p><strong><pre style='display: inline;'>q10</pre></strong> passed!</p>"
      ],
      "text/plain": [
       "q10 results: All test cases passed!"
      ]
     },
     "execution_count": 28,
     "metadata": {},
     "output_type": "execute_result"
    }
   ],
   "source": [
    "grader.check(\"q10\")"
   ]
  },
  {
   "cell_type": "markdown",
   "id": "bbe093e2",
   "metadata": {
    "deletable": false,
    "editable": false
   },
   "source": [
    "**Question 11:** Who are the `directors` of the **last** movie in `small_movies_data`?\n",
    "\n",
    "Your output **must** be a **list** of **string(s)**."
   ]
  },
  {
   "cell_type": "code",
   "execution_count": 29,
   "id": "d877d8d2",
   "metadata": {
    "tags": []
   },
   "outputs": [
    {
     "data": {
      "text/plain": [
       "['Theodore Melfi']"
      ]
     },
     "execution_count": 29,
     "metadata": {},
     "output_type": "execute_result"
    }
   ],
   "source": [
    "# compute and store the answer in the variable 'last_movie_directors_small_movies', then display it\n",
    "last_movie_directors_small_movies = get_movies(\"small_movies.csv\", \"small_mapping.csv\")[-1][\"directors\"]\n",
    "last_movie_directors_small_movies"
   ]
  },
  {
   "cell_type": "code",
   "execution_count": 30,
   "id": "a3521cab",
   "metadata": {
    "deletable": false,
    "editable": false
   },
   "outputs": [
    {
     "data": {
      "text/html": [
       "<p><strong><pre style='display: inline;'>q11</pre></strong> passed!</p>"
      ],
      "text/plain": [
       "q11 results: All test cases passed!"
      ]
     },
     "execution_count": 30,
     "metadata": {},
     "output_type": "execute_result"
    }
   ],
   "source": [
    "grader.check(\"q11\")"
   ]
  },
  {
   "cell_type": "markdown",
   "id": "2034bd93",
   "metadata": {
    "deletable": false,
    "editable": false
   },
   "source": [
    "#### Now that you’ve made it this far, your functions must be working pretty well with small datasets. Next, let's try a much bigger dataset!\n",
    "\n",
    "Run the following code to open the full dataset:"
   ]
  },
  {
   "cell_type": "code",
   "execution_count": 31,
   "id": "c483018d",
   "metadata": {},
   "outputs": [
    {
     "data": {
      "text/plain": [
       "102668"
      ]
     },
     "execution_count": 31,
     "metadata": {},
     "output_type": "execute_result"
    }
   ],
   "source": [
    "movies = get_movies(\"movies.csv\", \"mapping.csv\")\n",
    "len(movies)"
   ]
  },
  {
   "cell_type": "markdown",
   "id": "3de7014e",
   "metadata": {
    "deletable": false,
    "editable": false
   },
   "source": [
    "As the files are very large, this cell is expected to take around ten seconds to run. If it takes much longer (say, around a minute), then you will **need** to **optimize** your `get_movies` function so it runs faster.\n",
    "\n",
    "**Warning**: You are **not** allowed to call `get_movies` more than once on the full dataset (`movies.csv` and `mapping.csv`) in your notebook. Instead, reuse the `movies` variable, which is more efficient. You will **lose points** during manual review if you call `get_movies` again on these files.\n",
    "\n",
    "**Warning:** Do **not** display the value of the variable `movies` **anywhere** in your notebook. It will take up a **lot** of space, and your **Gradescope code will not be displayed** for grading. So, you will receive **zero points** for p8. Instead you should verify `movies` has the correct value by looking at a small *slice* of the **list** as in the question below. "
   ]
  },
  {
   "cell_type": "markdown",
   "id": "6eb99345",
   "metadata": {
    "deletable": false,
    "editable": false
   },
   "source": [
    "**Question 12:** What are the movies in `movies[20200:20220]`?\n",
    "\n",
    "Your answer should be a *list* of *dictionaries* that follows the format below:\n",
    "\n",
    "```python\n",
    "[{'title': 'Aliens in the Attic',\n",
    "  'year': 2009,\n",
    "  'duration': 86,\n",
    "  'genres': ['Adventure', 'Comedy', 'Family'],\n",
    "  'rating': 5.4,\n",
    "  'directors': ['John Schultz'],\n",
    "  'cast': ['Ashley Tisdale',\n",
    "   'Robert Hoffman',\n",
    "   'Carter Jenkins',\n",
    "   'Austin Butler']},\n",
    " {'title': 'Dark Buenos Aires',\n",
    "  'year': 2010,\n",
    "  'duration': 90,\n",
    "  'genres': ['Thriller'],\n",
    "  'rating': 4.8,\n",
    "  'directors': ['Ramon Térmens'],\n",
    "  'cast': ['Francesc Garrido',\n",
    "   'Daniel Faraldo',\n",
    "   'Natasha Yarovenko',\n",
    "   'Julieta Díaz']},\n",
    " ...\n",
    "]\n",
    "```"
   ]
  },
  {
   "cell_type": "code",
   "execution_count": 32,
   "id": "acbc0896",
   "metadata": {
    "tags": []
   },
   "outputs": [
    {
     "data": {
      "text/plain": [
       "[{'title': 'Aliens in the Attic',\n",
       "  'year': 2009,\n",
       "  'duration': 86,\n",
       "  'genres': ['Adventure', 'Comedy', 'Family'],\n",
       "  'rating': 5.4,\n",
       "  'directors': ['John Schultz'],\n",
       "  'cast': ['Ashley Tisdale',\n",
       "   'Robert Hoffman',\n",
       "   'Carter Jenkins',\n",
       "   'Austin Butler']},\n",
       " {'title': 'Dark Buenos Aires',\n",
       "  'year': 2010,\n",
       "  'duration': 90,\n",
       "  'genres': ['Thriller'],\n",
       "  'rating': 4.8,\n",
       "  'directors': ['Ramon Térmens'],\n",
       "  'cast': ['Francesc Garrido',\n",
       "   'Daniel Faraldo',\n",
       "   'Natasha Yarovenko',\n",
       "   'Julieta Díaz']},\n",
       " {'title': 'The Bank Shot',\n",
       "  'year': 1974,\n",
       "  'duration': 83,\n",
       "  'genres': ['Comedy', 'Crime'],\n",
       "  'rating': 5.4,\n",
       "  'directors': ['Gower Champion'],\n",
       "  'cast': ['George C. Scott', 'Joanna Cassidy', 'Sorrell Booke', 'G. Wood']},\n",
       " {'title': 'Complicity',\n",
       "  'year': 2013,\n",
       "  'duration': 81,\n",
       "  'genres': ['Drama', 'Thriller'],\n",
       "  'rating': 4.1,\n",
       "  'directors': ['C.B. Harding'],\n",
       "  'cast': ['Sean Young', 'Jenna Boyd', 'Heather Hemmens', 'Haley Ramm']},\n",
       " {'title': \"Russia's Toughest Prisons\",\n",
       "  'year': 2011,\n",
       "  'duration': 60,\n",
       "  'genres': ['Documentary'],\n",
       "  'rating': 6.5,\n",
       "  'directors': ['Anna Rodzinski'],\n",
       "  'cast': ['Alexander Brandon']},\n",
       " {'title': 'Broken Soldier',\n",
       "  'year': 2022,\n",
       "  'duration': 93,\n",
       "  'genres': ['Drama', 'Thriller'],\n",
       "  'rating': 3.4,\n",
       "  'directors': ['Matthew Coppola'],\n",
       "  'cast': ['Mark Kassen', 'Sophie Turner', 'Ray Liotta', 'Ivana Milicevic']},\n",
       " {'title': 'Dear John',\n",
       "  'year': 1988,\n",
       "  'duration': 108,\n",
       "  'genres': ['Horror', 'Thriller'],\n",
       "  'rating': 4.4,\n",
       "  'directors': ['Catherine Ord'],\n",
       "  'cast': ['William Bledsoe',\n",
       "   'Valerie Buhagiar',\n",
       "   'Stan Lake',\n",
       "   'Thomas Rickert',\n",
       "   'Daniel MacIvor',\n",
       "   'David Maclean',\n",
       "   'Evelyn Kaye']},\n",
       " {'title': 'Strange Cargo',\n",
       "  'year': 1936,\n",
       "  'duration': 68,\n",
       "  'genres': ['Crime', 'Drama'],\n",
       "  'rating': 7.2,\n",
       "  'directors': ['Lawrence Huntington'],\n",
       "  'cast': ['Kenneth Warrington',\n",
       "   'Kathleen Kelly',\n",
       "   'George Mozart',\n",
       "   'Moore Marriott',\n",
       "   'George Sanders',\n",
       "   'Richard Norris',\n",
       "   'Geoffrey Clarke']},\n",
       " {'title': 'The Man from Colorado',\n",
       "  'year': 1948,\n",
       "  'duration': 100,\n",
       "  'genres': ['Romance', 'Western'],\n",
       "  'rating': 6.6,\n",
       "  'directors': ['Henry Levin'],\n",
       "  'cast': ['Glenn Ford', 'William Holden', 'Ellen Drew', 'Ray Collins']},\n",
       " {'title': 'The Wild Ones',\n",
       "  'year': 2012,\n",
       "  'duration': 100,\n",
       "  'genres': ['Drama'],\n",
       "  'rating': 6.2,\n",
       "  'directors': ['Patricia Ferreira'],\n",
       "  'cast': ['Marina Comas', 'Àlex Monner', 'Albert Baró', 'Aina Clotet']},\n",
       " {'title': 'Panama Sugar',\n",
       "  'year': 1990,\n",
       "  'duration': 110,\n",
       "  'genres': ['Comedy'],\n",
       "  'rating': 4.4,\n",
       "  'directors': ['Marcello Avallone'],\n",
       "  'cast': ['Scott Plank',\n",
       "   'Oliver Reed',\n",
       "   'Lucrezia Lante della Rovere',\n",
       "   'Vittorio Amandola']},\n",
       " {'title': 'Maa Beti',\n",
       "  'year': 1986,\n",
       "  'duration': 151,\n",
       "  'genres': ['Drama'],\n",
       "  'rating': 5.5,\n",
       "  'directors': ['Kalpataru'],\n",
       "  'cast': ['Shashi Kapoor',\n",
       "   'Meenakshi Sheshadri',\n",
       "   'Sharmila Tagore',\n",
       "   'Tanuja Samarth']},\n",
       " {'title': 'Rites of Passage',\n",
       "  'year': 2013,\n",
       "  'duration': 80,\n",
       "  'genres': ['Drama'],\n",
       "  'rating': 6.6,\n",
       "  'directors': ['Phillip Crawford', 'Mary Callaghan', 'Gemma Parsons'],\n",
       "  'cast': ['Chaise Barbaric', 'Skie Carlson', 'Tiran Dingle', 'Elias Rees']},\n",
       " {'title': 'All in',\n",
       "  'year': 2005,\n",
       "  'duration': 95,\n",
       "  'genres': ['Comedy'],\n",
       "  'rating': 7.0,\n",
       "  'directors': ['Reggie Jordan'],\n",
       "  'cast': ['Edward Asner', 'Ahmed Ahmed', 'Jim Formanek', 'Matt Godecker']},\n",
       " {'title': 'The State of Texas vs. Melissa',\n",
       "  'year': 2020,\n",
       "  'duration': 102,\n",
       "  'genres': ['Documentary'],\n",
       "  'rating': 5.8,\n",
       "  'directors': ['Cyril Thomas', 'Sabrina Van Tassel'],\n",
       "  'cast': ['Norma Jean Farley',\n",
       "   'Peter Gilman',\n",
       "   'Bobby Lucio',\n",
       "   'Daniella Lucio']},\n",
       " {'title': 'Bad Day',\n",
       "  'year': 2008,\n",
       "  'duration': 98,\n",
       "  'genres': ['Crime', 'Thriller'],\n",
       "  'rating': 4.1,\n",
       "  'directors': ['Ian David Diaz'],\n",
       "  'cast': ['Claire Goose', 'Donna Air', 'Anthony Ofoegbu', 'George Calil']},\n",
       " {'title': 'The Stonecutter',\n",
       "  'year': 2000,\n",
       "  'duration': 95,\n",
       "  'genres': ['Drama'],\n",
       "  'rating': 8.3,\n",
       "  'directors': ['Stephen Erickson'],\n",
       "  'cast': ['Michael Cavalieri',\n",
       "   'Trisha Melynkov',\n",
       "   'Harold Cannon',\n",
       "   'Karin Argoud']},\n",
       " {'title': \"Thunder in God's Country\",\n",
       "  'year': 1951,\n",
       "  'duration': 67,\n",
       "  'genres': ['Western'],\n",
       "  'rating': 6.9,\n",
       "  'directors': ['George Blair'],\n",
       "  'cast': ['Paul Harvey',\n",
       "   'Rex Allen',\n",
       "   'Mary Ellen Kay',\n",
       "   'Buddy Ebsen',\n",
       "   'Ian MacDonald']},\n",
       " {'title': 'When Elephants Fight',\n",
       "  'year': 2015,\n",
       "  'duration': 90,\n",
       "  'genres': ['Documentary', 'News'],\n",
       "  'rating': 7.7,\n",
       "  'directors': ['Mike Ramsdell'],\n",
       "  'cast': ['Robin Wright']},\n",
       " {'title': 'To Gillian on Her 37th Birthday',\n",
       "  'year': 1996,\n",
       "  'duration': 93,\n",
       "  'genres': ['Drama', 'Fantasy', 'Romance'],\n",
       "  'rating': 5.8,\n",
       "  'directors': ['Michael Pressman'],\n",
       "  'cast': ['Peter Gallagher',\n",
       "   'Michelle Pfeiffer',\n",
       "   'Claire Danes',\n",
       "   'Laurie Fortier']}]"
      ]
     },
     "execution_count": 32,
     "metadata": {},
     "output_type": "execute_result"
    }
   ],
   "source": [
    "# compute and store the answer in the variable 'movies_20200_20220', then display it\n",
    "movies_20200_20220 = movies[20200:20220]\n",
    "movies_20200_20220"
   ]
  },
  {
   "cell_type": "code",
   "execution_count": 33,
   "id": "6568df9e",
   "metadata": {
    "deletable": false,
    "editable": false
   },
   "outputs": [
    {
     "data": {
      "text/html": [
       "<p><strong><pre style='display: inline;'>q12</pre></strong> passed!</p>"
      ],
      "text/plain": [
       "q12 results: All test cases passed!"
      ]
     },
     "execution_count": 33,
     "metadata": {},
     "output_type": "execute_result"
    }
   ],
   "source": [
    "grader.check(\"q12\")"
   ]
  },
  {
   "cell_type": "markdown",
   "id": "4829a1a9",
   "metadata": {
    "deletable": false,
    "editable": false
   },
   "source": [
    "**Question 13:** What is the **number** of movies released in the `year` *2018*?\n",
    "\n",
    "Your outuput must be an **int**."
   ]
  },
  {
   "cell_type": "code",
   "execution_count": 34,
   "id": "8362c104",
   "metadata": {
    "tags": []
   },
   "outputs": [
    {
     "data": {
      "text/plain": [
       "4262"
      ]
     },
     "execution_count": 34,
     "metadata": {},
     "output_type": "execute_result"
    }
   ],
   "source": [
    "# compute and store the answer in the variable 'num_movies_2018', then display it\n",
    "num_movies_2018 = 0\n",
    "\n",
    "for movie in movies:\n",
    "    if movie[\"year\"] == 2018:\n",
    "        num_movies_2018 += 1\n",
    "        \n",
    "num_movies_2018"
   ]
  },
  {
   "cell_type": "code",
   "execution_count": 35,
   "id": "9835ddc3",
   "metadata": {
    "deletable": false,
    "editable": false
   },
   "outputs": [
    {
     "data": {
      "text/html": [
       "<p><strong><pre style='display: inline;'>q13</pre></strong> passed!</p>"
      ],
      "text/plain": [
       "q13 results: All test cases passed!"
      ]
     },
     "execution_count": 35,
     "metadata": {},
     "output_type": "execute_result"
    }
   ],
   "source": [
    "grader.check(\"q13\")"
   ]
  },
  {
   "cell_type": "markdown",
   "id": "d506a2e8",
   "metadata": {
    "deletable": false,
    "editable": false
   },
   "source": [
    "### Function 4: `find_specific_movies(movies, keyword)`\n",
    "\n",
    "Now that we have created this data structure `movies`, we can start doing some fun things with the data!\n",
    "We will continue working on this data structure for the next project (p9) as well.\n",
    "\n",
    "Let us now use this data structure `movies` to create a **search bar** like the one in Netflix!\n",
    "**Do not change the below function in any way**.\n",
    "This function takes in a keyword like a substring of a title, a genre, or the name of a person, and returns a list of relevant movies with that title, genre, or cast member/director.\n",
    "\n",
    "**Warning:** As `movies` is very large, the function `find_specific_movies` may take five to ten seconds to run. This is normal and you should not panic if it takes a while to run."
   ]
  },
  {
   "cell_type": "code",
   "execution_count": 36,
   "id": "60bb789b",
   "metadata": {
    "deletable": false,
    "editable": false
   },
   "outputs": [],
   "source": [
    "# DO NOT EDIT OR REDEFINE THIS FUNCTION\n",
    "def find_specific_movies(movies, keyword):\n",
    "    \"\"\"\n",
    "    find_specific_movies(movies, keyword) takes a list of movie dictionaries \n",
    "    and a keyword; it returns a list of movies that contain the keyword\n",
    "    in either its title, genre, cast or directors.\n",
    "    \"\"\"\n",
    "    idx = 0\n",
    "    while idx < len(movies):\n",
    "        movie = movies[idx]\n",
    "        # note: \\ enables you split a long line of code into two lines\n",
    "        if (keyword not in movie['title']) and (keyword not in movie[\"genres\"]) \\\n",
    "        and (keyword not in movie[\"directors\"]) and (keyword not in movie[\"cast\"]):\n",
    "            movies.pop(idx)\n",
    "        else:\n",
    "            idx += 1\n",
    "    return movies"
   ]
  },
  {
   "cell_type": "markdown",
   "id": "4916323f",
   "metadata": {
    "deletable": false,
    "editable": false
   },
   "source": [
    "**Important:** While it might look as if we are making it easy for you by providing `find_specific_movies`, there is a catch! There is a subtle flaw with the way the function is defined, that will cause you issues in the next two questions. If you can spot this flaw by just observing the definition of `find_specific_movies`, congratulations! Since you are **not** allowed to modify the function definition, you will have to be a little clever with your function arguments to sidestep the flaw with the function definition.\n",
    "\n",
    "If you don't see anything wrong with the function just yet, don't worry about it. Solve q14 and q15 as you normally would, and see if you notice anything suspicious about your answers."
   ]
  },
  {
   "cell_type": "markdown",
   "id": "55c4a4c4",
   "metadata": {
    "deletable": false,
    "editable": false
   },
   "source": [
    "**Question 14:** List all the movies that *Katharine Hepburn* acted in.\n",
    "\n",
    "Your answer **must** be a **list** of **dictionaries**.\n",
    "\n",
    "You **must** answer this question by calling `find_specific_movies` with the keyword `\"Katharine Hepburn\"`.\n",
    "\n",
    "The `find_specific_movies` function is expected to take around 5 seconds to run, so do not panic if it takes so long to run."
   ]
  },
  {
   "cell_type": "code",
   "execution_count": 37,
   "id": "4efab1a7",
   "metadata": {
    "tags": []
   },
   "outputs": [
    {
     "data": {
      "text/plain": [
       "[{'title': 'Little Women',\n",
       "  'year': 1933,\n",
       "  'duration': 115,\n",
       "  'genres': ['Drama', 'Family', 'Romance'],\n",
       "  'rating': 7.2,\n",
       "  'directors': ['George Cukor'],\n",
       "  'cast': ['Katharine Hepburn',\n",
       "   'Joan Bennett',\n",
       "   'Paul Lukas',\n",
       "   'Edna May Oliver']},\n",
       " {'title': 'Desk Set',\n",
       "  'year': 1957,\n",
       "  'duration': 103,\n",
       "  'genres': ['Comedy', 'Romance'],\n",
       "  'rating': 7.2,\n",
       "  'directors': ['Walter Lang'],\n",
       "  'cast': ['Spencer Tracy',\n",
       "   'Katharine Hepburn',\n",
       "   'Gig Young',\n",
       "   'Joan Blondell']},\n",
       " {'title': 'Woman of the Year',\n",
       "  'year': 1942,\n",
       "  'duration': 114,\n",
       "  'genres': ['Comedy', 'Drama', 'Romance'],\n",
       "  'rating': 7.2,\n",
       "  'directors': ['George Stevens'],\n",
       "  'cast': ['Spencer Tracy',\n",
       "   'Katharine Hepburn',\n",
       "   'Fay Bainter',\n",
       "   'Reginald Owen']},\n",
       " {'title': 'Quality Street',\n",
       "  'year': 1937,\n",
       "  'duration': 83,\n",
       "  'genres': ['Comedy', 'Drama', 'Romance'],\n",
       "  'rating': 6.2,\n",
       "  'directors': ['George Stevens'],\n",
       "  'cast': ['Katharine Hepburn', 'Franchot Tone', 'Eric Blore', 'Fay Bainter']},\n",
       " {'title': 'Love Affair',\n",
       "  'year': 1994,\n",
       "  'duration': 108,\n",
       "  'genres': ['Comedy', 'Drama', 'Romance'],\n",
       "  'rating': 6.0,\n",
       "  'directors': ['Glenn Gordon Caron'],\n",
       "  'cast': ['Warren Beatty',\n",
       "   'Annette Bening',\n",
       "   'Katharine Hepburn',\n",
       "   'Garry Shandling']},\n",
       " {'title': \"Guess Who's Coming to Dinner\",\n",
       "  'year': 1967,\n",
       "  'duration': 108,\n",
       "  'genres': ['Comedy', 'Drama'],\n",
       "  'rating': 7.8,\n",
       "  'directors': ['Stanley Kramer'],\n",
       "  'cast': ['Spencer Tracy',\n",
       "   'Sidney Poitier',\n",
       "   'Katharine Hepburn',\n",
       "   'Katharine Houghton']},\n",
       " {'title': 'Dragon Seed',\n",
       "  'year': 1944,\n",
       "  'duration': 148,\n",
       "  'genres': ['Drama', 'History', 'War'],\n",
       "  'rating': 6.0,\n",
       "  'directors': ['Harold S. Bucquet', 'Jack Conway'],\n",
       "  'cast': ['Katharine Hepburn',\n",
       "   'Walter Huston',\n",
       "   'Aline MacMahon',\n",
       "   'Akim Tamiroff']},\n",
       " {'title': 'The Trojan Women',\n",
       "  'year': 1971,\n",
       "  'duration': 105,\n",
       "  'genres': ['Drama'],\n",
       "  'rating': 6.8,\n",
       "  'directors': ['Michael Cacoyannis'],\n",
       "  'cast': ['Katharine Hepburn',\n",
       "   'Vanessa Redgrave',\n",
       "   'Geneviève Bujold',\n",
       "   'Irene Papas']},\n",
       " {'title': 'The Madwoman of Chaillot',\n",
       "  'year': 1969,\n",
       "  'duration': 132,\n",
       "  'genres': ['Comedy', 'Drama'],\n",
       "  'rating': 6.0,\n",
       "  'directors': ['Bryan Forbes'],\n",
       "  'cast': ['Katharine Hepburn',\n",
       "   'Paul Henreid',\n",
       "   'Oskar Homolka',\n",
       "   'Yul Brynner']},\n",
       " {'title': 'Without Love',\n",
       "  'year': 1945,\n",
       "  'duration': 111,\n",
       "  'genres': ['Comedy', 'Romance'],\n",
       "  'rating': 6.6,\n",
       "  'directors': ['Harold S. Bucquet'],\n",
       "  'cast': ['Spencer Tracy',\n",
       "   'Katharine Hepburn',\n",
       "   'Lucille Ball',\n",
       "   'Keenan Wynn']},\n",
       " {'title': 'The Philadelphia Story',\n",
       "  'year': 1940,\n",
       "  'duration': 112,\n",
       "  'genres': ['Comedy', 'Romance'],\n",
       "  'rating': 7.9,\n",
       "  'directors': ['George Cukor'],\n",
       "  'cast': ['Cary Grant', 'Katharine Hepburn', 'James Stewart', 'Ruth Hussey']},\n",
       " {'title': 'Pat and Mike',\n",
       "  'year': 1952,\n",
       "  'duration': 95,\n",
       "  'genres': ['Comedy', 'Romance', 'Sport'],\n",
       "  'rating': 6.9,\n",
       "  'directors': ['George Cukor'],\n",
       "  'cast': ['Spencer Tracy', 'Katharine Hepburn', 'Aldo Ray', 'William Ching']},\n",
       " {'title': 'The Little Minister',\n",
       "  'year': 1934,\n",
       "  'duration': 110,\n",
       "  'genres': ['Drama', 'Romance'],\n",
       "  'rating': 6.2,\n",
       "  'directors': ['Richard Wallace'],\n",
       "  'cast': ['Katharine Hepburn', 'John Beal', 'Alan Hale', 'Donald Crisp']},\n",
       " {'title': 'A Bill of Divorcement',\n",
       "  'year': 1932,\n",
       "  'duration': 70,\n",
       "  'genres': ['Drama'],\n",
       "  'rating': 6.5,\n",
       "  'directors': ['George Cukor'],\n",
       "  'cast': ['John Barrymore',\n",
       "   'Katharine Hepburn',\n",
       "   'Billie Burke',\n",
       "   'David Manners']},\n",
       " {'title': 'State of the Union',\n",
       "  'year': 1948,\n",
       "  'duration': 124,\n",
       "  'genres': ['Comedy', 'Drama'],\n",
       "  'rating': 7.2,\n",
       "  'directors': ['Frank Capra'],\n",
       "  'cast': ['Spencer Tracy',\n",
       "   'Katharine Hepburn',\n",
       "   'Van Johnson',\n",
       "   'Angela Lansbury']},\n",
       " {'title': 'The Sea of Grass',\n",
       "  'year': 1947,\n",
       "  'duration': 123,\n",
       "  'genres': ['Drama', 'Western'],\n",
       "  'rating': 6.3,\n",
       "  'directors': ['Elia Kazan'],\n",
       "  'cast': ['Katharine Hepburn',\n",
       "   'Spencer Tracy',\n",
       "   'Robert Walker',\n",
       "   'Melvyn Douglas']},\n",
       " {'title': 'Spitfire',\n",
       "  'year': 1934,\n",
       "  'duration': 87,\n",
       "  'genres': ['Drama'],\n",
       "  'rating': 5.4,\n",
       "  'directors': ['John Cromwell'],\n",
       "  'cast': ['Katharine Hepburn',\n",
       "   'Robert Young',\n",
       "   'Ralph Bellamy',\n",
       "   'Martha Sleeper']},\n",
       " {'title': 'Bringing Up Baby',\n",
       "  'year': 1938,\n",
       "  'duration': 102,\n",
       "  'genres': ['Comedy'],\n",
       "  'rating': 7.8,\n",
       "  'directors': ['Howard Hawks'],\n",
       "  'cast': ['Katharine Hepburn',\n",
       "   'Cary Grant',\n",
       "   'Charles Ruggles',\n",
       "   'Walter Catlett']},\n",
       " {'title': 'A Delicate Balance',\n",
       "  'year': 1973,\n",
       "  'duration': 133,\n",
       "  'genres': ['Drama'],\n",
       "  'rating': 6.6,\n",
       "  'directors': ['Tony Richardson'],\n",
       "  'cast': ['Katharine Hepburn', 'Paul Scofield', 'Lee Remick', 'Kate Reid']},\n",
       " {'title': 'Olly, Olly, Oxen Free',\n",
       "  'year': 1978,\n",
       "  'duration': 89,\n",
       "  'genres': ['Adventure'],\n",
       "  'rating': 5.3,\n",
       "  'directors': ['Richard A. Colla'],\n",
       "  'cast': ['Katharine Hepburn',\n",
       "   'Kevin McKenzie',\n",
       "   'Dennis Dimster',\n",
       "   'Peter Kilman']},\n",
       " {'title': 'Keeper of the Flame',\n",
       "  'year': 1942,\n",
       "  'duration': 100,\n",
       "  'genres': ['Drama', 'Mystery'],\n",
       "  'rating': 6.7,\n",
       "  'directors': ['George Cukor'],\n",
       "  'cast': ['Spencer Tracy',\n",
       "   'Katharine Hepburn',\n",
       "   'Richard Whorf',\n",
       "   'Margaret Wycherly']},\n",
       " {'title': 'Christopher Strong',\n",
       "  'year': 1933,\n",
       "  'duration': 78,\n",
       "  'genres': ['Action', 'Adventure', 'Drama'],\n",
       "  'rating': 6.3,\n",
       "  'directors': ['Dorothy Arzner'],\n",
       "  'cast': ['Katharine Hepburn',\n",
       "   'Colin Clive',\n",
       "   'Billie Burke',\n",
       "   'Helen Chandler']},\n",
       " {'title': 'The Rainmaker',\n",
       "  'year': 1956,\n",
       "  'duration': 121,\n",
       "  'genres': ['Romance', 'Western'],\n",
       "  'rating': 6.9,\n",
       "  'directors': ['Joseph Anthony'],\n",
       "  'cast': ['Burt Lancaster',\n",
       "   'Katharine Hepburn',\n",
       "   'Wendell Corey',\n",
       "   'Lloyd Bridges']},\n",
       " {'title': 'Summertime',\n",
       "  'year': 1955,\n",
       "  'duration': 102,\n",
       "  'genres': ['Comedy', 'Drama', 'Romance'],\n",
       "  'rating': 7.1,\n",
       "  'directors': ['David Lean'],\n",
       "  'cast': ['Katharine Hepburn',\n",
       "   'Rossano Brazzi',\n",
       "   'Isa Miranda',\n",
       "   'Darren McGavin']},\n",
       " {'title': 'On Golden Pond',\n",
       "  'year': 1981,\n",
       "  'duration': 109,\n",
       "  'genres': ['Drama'],\n",
       "  'rating': 7.6,\n",
       "  'directors': ['Mark Rydell'],\n",
       "  'cast': ['Katharine Hepburn', 'Henry Fonda', 'Jane Fonda', 'Doug McKeon']},\n",
       " {'title': 'Suddenly, Last Summer',\n",
       "  'year': 1959,\n",
       "  'duration': 114,\n",
       "  'genres': ['Drama', 'Mystery', 'Thriller'],\n",
       "  'rating': 7.5,\n",
       "  'directors': ['Joseph L. Mankiewicz'],\n",
       "  'cast': ['Elizabeth Taylor',\n",
       "   'Katharine Hepburn',\n",
       "   'Montgomery Clift',\n",
       "   'Albert Dekker']},\n",
       " {'title': 'Mary of Scotland',\n",
       "  'year': 1936,\n",
       "  'duration': 123,\n",
       "  'genres': ['Biography', 'Drama', 'History'],\n",
       "  'rating': 6.3,\n",
       "  'directors': ['John Ford', 'Leslie Goodwins'],\n",
       "  'cast': ['Katharine Hepburn',\n",
       "   'Fredric March',\n",
       "   'Florence Eldridge',\n",
       "   'Douglas Walton']},\n",
       " {'title': 'Morning Glory',\n",
       "  'year': 1933,\n",
       "  'duration': 74,\n",
       "  'genres': ['Drama', 'Romance'],\n",
       "  'rating': 6.4,\n",
       "  'directors': ['Lowell Sherman'],\n",
       "  'cast': ['Katharine Hepburn',\n",
       "   'Douglas Fairbanks Jr.',\n",
       "   'Adolphe Menjou',\n",
       "   'Mary Duncan']},\n",
       " {'title': 'The Lion in Winter',\n",
       "  'year': 1968,\n",
       "  'duration': 134,\n",
       "  'genres': ['Biography', 'Drama', 'History'],\n",
       "  'rating': 7.9,\n",
       "  'directors': ['Anthony Harvey'],\n",
       "  'cast': [\"Peter O'Toole\",\n",
       "   'Katharine Hepburn',\n",
       "   'Anthony Hopkins',\n",
       "   'John Castle']},\n",
       " {'title': 'Break of Hearts',\n",
       "  'year': 1935,\n",
       "  'duration': 78,\n",
       "  'genres': ['Drama', 'Romance'],\n",
       "  'rating': 5.8,\n",
       "  'directors': ['Philip Moeller'],\n",
       "  'cast': ['Katharine Hepburn',\n",
       "   'Charles Boyer',\n",
       "   'John Beal',\n",
       "   'Jean Hersholt']},\n",
       " {'title': 'The Iron Petticoat',\n",
       "  'year': 1956,\n",
       "  'duration': 87,\n",
       "  'genres': ['Comedy'],\n",
       "  'rating': 5.1,\n",
       "  'directors': ['Ralph Thomas'],\n",
       "  'cast': ['Bob Hope',\n",
       "   'Katharine Hepburn',\n",
       "   'Noelle Middleton',\n",
       "   'James Robertson Justice']},\n",
       " {'title': 'Stage Door',\n",
       "  'year': 1937,\n",
       "  'duration': 92,\n",
       "  'genres': ['Comedy', 'Drama'],\n",
       "  'rating': 7.7,\n",
       "  'directors': ['Gregory La Cava'],\n",
       "  'cast': ['Katharine Hepburn',\n",
       "   'Ginger Rogers',\n",
       "   'Adolphe Menjou',\n",
       "   'Gail Patrick']},\n",
       " {'title': 'Rooster Cogburn',\n",
       "  'year': 1975,\n",
       "  'duration': 108,\n",
       "  'genres': ['Adventure', 'Drama', 'Western'],\n",
       "  'rating': 6.8,\n",
       "  'directors': ['Stuart Millar'],\n",
       "  'cast': ['John Wayne',\n",
       "   'Katharine Hepburn',\n",
       "   'Anthony Zerbe',\n",
       "   'Richard Jordan']},\n",
       " {'title': \"Long Day's Journey Into Night\",\n",
       "  'year': 1962,\n",
       "  'duration': 174,\n",
       "  'genres': ['Drama'],\n",
       "  'rating': 7.5,\n",
       "  'directors': ['Sidney Lumet'],\n",
       "  'cast': ['Katharine Hepburn',\n",
       "   'Ralph Richardson',\n",
       "   'Jason Robards',\n",
       "   'Dean Stockwell']},\n",
       " {'title': 'Sylvia Scarlett',\n",
       "  'year': 1935,\n",
       "  'duration': 95,\n",
       "  'genres': ['Comedy', 'Drama', 'Romance'],\n",
       "  'rating': 6.2,\n",
       "  'directors': ['George Cukor'],\n",
       "  'cast': ['Katharine Hepburn', 'Cary Grant', 'Brian Aherne', 'Edmund Gwenn']}]"
      ]
     },
     "execution_count": 37,
     "metadata": {},
     "output_type": "execute_result"
    }
   ],
   "source": [
    "# compute and store the answer in the variable 'hepburn_films', then display it\n",
    "hepburn_copy = copy.copy(movies)\n",
    "\n",
    "hepburn_films = find_specific_movies(hepburn_copy, \"Katharine Hepburn\")\n",
    "hepburn_films"
   ]
  },
  {
   "cell_type": "code",
   "execution_count": 38,
   "id": "ebc41df3",
   "metadata": {
    "deletable": false,
    "editable": false
   },
   "outputs": [
    {
     "data": {
      "text/html": [
       "<p><strong><pre style='display: inline;'>q14</pre></strong> passed!</p>"
      ],
      "text/plain": [
       "q14 results: All test cases passed!"
      ]
     },
     "execution_count": 38,
     "metadata": {},
     "output_type": "execute_result"
    }
   ],
   "source": [
    "grader.check(\"q14\")"
   ]
  },
  {
   "cell_type": "markdown",
   "id": "25b47805",
   "metadata": {
    "deletable": false,
    "editable": false
   },
   "source": [
    "**Question 15:** List all the movies that contain the string *Wisconsin* in their `title`.\n",
    "\n",
    "Your answer **must** be a **list** of **dictionaries**.\n",
    "\n",
    "You **must** answer this question by calling `find_specific_movies` with the keyword `\"Wisconsin\"`.\n",
    "\n",
    "**Important Hint:**  If you did not notice the flaw with the definition of `find_specific_movies` before, you are likely to have run into an issue with this quetsion. It is likely that you will see that your output for this question is an empty list. To see why this happened, find the value of `len(movies)` and see if it is equal to the value you found earlier.\n",
    "\n",
    "Remember that you are **not** allowed to modify the definition of `find_specific_movies`. You will need to cleverly pass arguments to `find_specific_movies` (in both q14 and q15) to ensure that `movies` does not get modified by the function calls. Take a look at the [lecture slides](https://git.doit.wisc.edu/cdis/cs/courses/cs220/cs220-lecture-material/-/tree/main/f22/meena_lec_notes/lec-21) from October 26 for more hints. You will have to Restart and Run all your cells to see the correct output after you fix your answer for q14 (and q15)."
   ]
  },
  {
   "cell_type": "code",
   "execution_count": 39,
   "id": "ff176cc8",
   "metadata": {
    "tags": []
   },
   "outputs": [
    {
     "data": {
      "text/plain": [
       "[{'title': 'Wisconsin Death Trip',\n",
       "  'year': 1999,\n",
       "  'duration': 76,\n",
       "  'genres': ['Biography', 'Crime', 'Drama'],\n",
       "  'rating': 6.6,\n",
       "  'directors': ['James Marsh'],\n",
       "  'cast': ['Ian Holm', 'Jeffrey Golden', 'Jo Vukelich', 'Marcus Monroe']},\n",
       " {'title': 'Bootleg Wisconsin',\n",
       "  'year': 2008,\n",
       "  'duration': 73,\n",
       "  'genres': ['Drama'],\n",
       "  'rating': 7.7,\n",
       "  'directors': ['Brandon Linden'],\n",
       "  'cast': ['Lepolion Henderson',\n",
       "   'Angela Harris',\n",
       "   'Alissa Bailey',\n",
       "   'Joyce Porter']},\n",
       " {'title': 'Wisconsin Supper Clubs: An Old Fashioned Experience',\n",
       "  'year': 2011,\n",
       "  'duration': 55,\n",
       "  'genres': ['Documentary', 'History'],\n",
       "  'rating': 6.7,\n",
       "  'directors': ['Ron Faiola'],\n",
       "  'cast': ['Bun E. Carlos']},\n",
       " {'title': 'Small Town Wisconsin',\n",
       "  'year': 2020,\n",
       "  'duration': 109,\n",
       "  'genres': ['Comedy', 'Drama'],\n",
       "  'rating': 7.3,\n",
       "  'directors': ['Niels Mueller'],\n",
       "  'cast': ['David Sullivan',\n",
       "   'Bill Heck',\n",
       "   'Kristen Johnston',\n",
       "   'Cooper J. Friedman']}]"
      ]
     },
     "execution_count": 39,
     "metadata": {},
     "output_type": "execute_result"
    }
   ],
   "source": [
    "# compute and store the answer in the variable 'wisconsin_movies', then display it\n",
    "wisconsin_copy = copy.copy(movies)\n",
    "\n",
    "wisconsin_movies = find_specific_movies(wisconsin_copy, \"Wisconsin\")\n",
    "wisconsin_movies"
   ]
  },
  {
   "cell_type": "code",
   "execution_count": 40,
   "id": "fea52538",
   "metadata": {
    "deletable": false,
    "editable": false
   },
   "outputs": [
    {
     "data": {
      "text/html": [
       "<p><strong><pre style='display: inline;'>q15</pre></strong> passed!</p>"
      ],
      "text/plain": [
       "q15 results: All test cases passed!"
      ]
     },
     "execution_count": 40,
     "metadata": {},
     "output_type": "execute_result"
    }
   ],
   "source": [
    "grader.check(\"q15\")"
   ]
  },
  {
   "cell_type": "markdown",
   "id": "dbab7de5",
   "metadata": {
    "deletable": false,
    "editable": false
   },
   "source": [
    "### Function 5: `bucketize_by_genre(movies)`\n",
    "\n",
    "We require you to complete the below function to answer the next several questions (this is a **requirement**, and you will **lose points** if you do not implement this function)."
   ]
  },
  {
   "cell_type": "code",
   "execution_count": 41,
   "id": "be9e9097",
   "metadata": {
    "tags": []
   },
   "outputs": [],
   "source": [
    "def bucketize_by_genre(movies):\n",
    "    \"\"\"bucketize_by_genre(movies) takes a list of movie dictionaries;\n",
    "    it returns a dict in which each genre is a key and\n",
    "    the value is a list of all movies that contain that genre\"\"\"\n",
    "    genre_dict = {} \n",
    "    for movie in movies: \n",
    "        for genre in movie[\"genres\"]:\n",
    "            if genre not in genre_dict:\n",
    "                genre_dict[genre] = []\n",
    "        (genre_dict[genre]).append(movie)\n",
    "    return genre_dict\n",
    "\n",
    "    # replace with your code\n",
    "    # TODO: initialize a dictionary\n",
    "    # TODO: loop through all movies\n",
    "    # TODO: loop through all genres in this movie\n",
    "    # TODO: if this genre is not a key in our dictionary, set the value associated with this genre to an empty list\n",
    "    # TODO: if we already have this genre in our dictionary, add the movie to the list associated with this genre\n",
    "    # TODO: return the dictionary"
   ]
  },
  {
   "cell_type": "code",
   "execution_count": 42,
   "id": "5a7e1d4f",
   "metadata": {
    "tags": []
   },
   "outputs": [],
   "source": [
    "# call the function bucketize_by_genre on 'movies' and store it in the variable 'genre_dict'\n",
    "# do NOT display the output directly\n",
    "genre_dict = bucketize_by_genre(movies)"
   ]
  },
  {
   "cell_type": "markdown",
   "id": "9c3019b1",
   "metadata": {
    "deletable": false,
    "editable": false
   },
   "source": [
    "**Warning:** You are **not** allowed to call `bucketize_by_genre` more than once on the full list of movies (`movies`) in your notebook. You will **lose points** during manual review if you call `bucketize_by_genre` again on `movies`."
   ]
  },
  {
   "cell_type": "markdown",
   "id": "cf588c26",
   "metadata": {
    "deletable": false,
    "editable": false
   },
   "source": [
    "**Question 16:** How many **unique** movie `genres` are present in the dataset?"
   ]
  },
  {
   "cell_type": "code",
   "execution_count": 43,
   "id": "5de4e9a6",
   "metadata": {
    "tags": []
   },
   "outputs": [
    {
     "data": {
      "text/plain": [
       "26"
      ]
     },
     "execution_count": 43,
     "metadata": {},
     "output_type": "execute_result"
    }
   ],
   "source": [
    "# compute and store the answer in the variable 'num_genres', then display it\n",
    "num_genres = len(genre_dict)\n",
    "num_genres"
   ]
  },
  {
   "cell_type": "code",
   "execution_count": 44,
   "id": "327432dd",
   "metadata": {
    "deletable": false,
    "editable": false
   },
   "outputs": [
    {
     "data": {
      "text/html": [
       "<p><strong><pre style='display: inline;'>q16</pre></strong> passed!</p>"
      ],
      "text/plain": [
       "q16 results: All test cases passed!"
      ]
     },
     "execution_count": 44,
     "metadata": {},
     "output_type": "execute_result"
    }
   ],
   "source": [
    "grader.check(\"q16\")"
   ]
  },
  {
   "cell_type": "markdown",
   "id": "c6913f3f",
   "metadata": {
    "deletable": false,
    "editable": false
   },
   "source": [
    "**Question 17:** How many *Music* movies (i.e. movies with *Music* as one of their `genres`) do we have in the dataset released **after** the `year` *2019*?\n",
    "\n",
    "Your output **must** be an **int**. You **must** use the `genre_dict` data structure to answer this question."
   ]
  },
  {
   "cell_type": "code",
   "execution_count": 45,
   "id": "719d013f",
   "metadata": {
    "tags": []
   },
   "outputs": [
    {
     "data": {
      "text/plain": [
       "128"
      ]
     },
     "execution_count": 45,
     "metadata": {},
     "output_type": "execute_result"
    }
   ],
   "source": [
    "# compute and store the answer in the variable 'music_after_2019', then display it\n",
    "music_after_2019 = 0\n",
    "\n",
    "for movie in genre_dict[\"Music\"]:\n",
    "    if movie[\"year\"] > 2019:\n",
    "        music_after_2019 += 1\n",
    "        \n",
    "music_after_2019"
   ]
  },
  {
   "cell_type": "code",
   "execution_count": 46,
   "id": "65c19782",
   "metadata": {
    "deletable": false,
    "editable": false
   },
   "outputs": [
    {
     "data": {
      "text/html": [
       "<p><strong style='color: red;'><pre style='display: inline;'>q17</pre> results:</strong></p><p><strong><pre style='display: inline;'>q17 - 1</pre> result:</strong></p><pre>    Trying:\n",
       "        p8_test.check(\"q17\", music_after_2019)\n",
       "    Expecting:\n",
       "        True\n",
       "    **********************************************************************\n",
       "    Line 1, in q17 0\n",
       "    Failed example:\n",
       "        p8_test.check(\"q17\", music_after_2019)\n",
       "    Expected:\n",
       "        True\n",
       "    Got:\n",
       "        <b style='color: red;'>ERROR:</b> expected 153 but found 128\n",
       "</pre>"
      ],
      "text/plain": [
       "q17 results:\n",
       "    q17 - 1 result:\n",
       "        Trying:\n",
       "            p8_test.check(\"q17\", music_after_2019)\n",
       "        Expecting:\n",
       "            True\n",
       "        **********************************************************************\n",
       "        Line 1, in q17 0\n",
       "        Failed example:\n",
       "            p8_test.check(\"q17\", music_after_2019)\n",
       "        Expected:\n",
       "            True\n",
       "        Got:\n",
       "            <b style='color: red;'>ERROR:</b> expected 153 but found 128"
      ]
     },
     "execution_count": 46,
     "metadata": {},
     "output_type": "execute_result"
    }
   ],
   "source": [
    "grader.check(\"q17\")"
   ]
  },
  {
   "cell_type": "markdown",
   "id": "a96adf0a",
   "metadata": {
    "deletable": false,
    "editable": false
   },
   "source": [
    "**Question 18:** List the `title` of all *Horror* movies (i.e. movies with *Horror* as one of their `genres`) with `rating` **larger** than *9.0* in the dataset.\n",
    "\n",
    "Your output **must** be a **list** of **strings**. You **must** use the `genre_dict` data structure to answer this question."
   ]
  },
  {
   "cell_type": "code",
   "execution_count": 47,
   "id": "475e0d81",
   "metadata": {
    "tags": []
   },
   "outputs": [
    {
     "data": {
      "text/plain": [
       "['American Barbarian',\n",
       " 'The Children Under the House',\n",
       " 'Laurence',\n",
       " 'Girls on a Boat']"
      ]
     },
     "execution_count": 47,
     "metadata": {},
     "output_type": "execute_result"
    }
   ],
   "source": [
    "# compute and store the answer in the variable 'horror_movies_above_9', then display it\n",
    "horror_movies_above_9 = []\n",
    "\n",
    "for movie in genre_dict[\"Horror\"]:\n",
    "    if movie[\"rating\"] > 9.0:\n",
    "        horror_movies_above_9.append(movie[\"title\"])\n",
    "        \n",
    "horror_movies_above_9"
   ]
  },
  {
   "cell_type": "code",
   "execution_count": 48,
   "id": "ca535410",
   "metadata": {
    "deletable": false,
    "editable": false
   },
   "outputs": [
    {
     "data": {
      "text/html": [
       "<p><strong style='color: red;'><pre style='display: inline;'>q18</pre> results:</strong></p><p><strong><pre style='display: inline;'>q18 - 1</pre> result:</strong></p><pre>    Trying:\n",
       "        p8_test.check(\"q18\", horror_movies_above_9)\n",
       "    Expecting:\n",
       "        True\n",
       "    **********************************************************************\n",
       "    Line 1, in q18 0\n",
       "    Failed example:\n",
       "        p8_test.check(\"q18\", horror_movies_above_9)\n",
       "    Expected:\n",
       "        True\n",
       "    Got:\n",
       "        <b style='color: red;'>ERROR:</b> at index 2 of the list, expected 'Santhoshathil Kalavaram' but found 'Laurence' (found 4 entries in list, but expected 10)\n",
       "</pre>"
      ],
      "text/plain": [
       "q18 results:\n",
       "    q18 - 1 result:\n",
       "        Trying:\n",
       "            p8_test.check(\"q18\", horror_movies_above_9)\n",
       "        Expecting:\n",
       "            True\n",
       "        **********************************************************************\n",
       "        Line 1, in q18 0\n",
       "        Failed example:\n",
       "            p8_test.check(\"q18\", horror_movies_above_9)\n",
       "        Expected:\n",
       "            True\n",
       "        Got:\n",
       "            <b style='color: red;'>ERROR:</b> at index 2 of the list, expected 'Santhoshathil Kalavaram' but found 'Laurence' (found 4 entries in list, but expected 10)"
      ]
     },
     "execution_count": 48,
     "metadata": {},
     "output_type": "execute_result"
    }
   ],
   "source": [
    "grader.check(\"q18\")"
   ]
  },
  {
   "cell_type": "markdown",
   "id": "c5f42d47",
   "metadata": {
    "deletable": false,
    "editable": false
   },
   "source": [
    "**Question 19:** Which movie `genre` does *Jennifer Aniston* play the most?\n",
    "\n",
    "There is a **unique** `genre` that *Jennifer Aniston* has played the most. You do **not** have to worry about breaking ties.\n",
    "\n",
    "**Hint:** You can combine the *two* functions above to bucketize the movies that *Jennifer Aniston* has acted in by their `genres`. Then, you can loop through each genre to find the one with the most number of movies in it."
   ]
  },
  {
   "cell_type": "code",
   "execution_count": 49,
   "id": "b0eaac53",
   "metadata": {
    "tags": []
   },
   "outputs": [
    {
     "data": {
      "text/plain": [
       "'Horror'"
      ]
     },
     "execution_count": 49,
     "metadata": {},
     "output_type": "execute_result"
    }
   ],
   "source": [
    "# compute and store the answer in the variable 'jen_aniston_genre, then display it\n",
    "jen_aniston_genre = None\n",
    "jen_movies_copy = copy.copy(movies)\n",
    "jen_movies = []\n",
    "\n",
    "for movies in find_specific_movies(jen_movies_copy, \"Jennifer Aniston\"):\n",
    "    jen_movies.append(movie)\n",
    "    jen_genres = bucketize_by_genre(jen_movies)\n",
    "    for genre in jen_genres:\n",
    "        if jen_aniston_genre == None or len(jen_genres[genre]) > len(jen_genres[jen_aniston_genre]):\n",
    "            jen_aniston_genre = genre\n",
    "\n",
    "jen_aniston_genre"
   ]
  },
  {
   "cell_type": "code",
   "execution_count": 50,
   "id": "55e4c949",
   "metadata": {
    "deletable": false,
    "editable": false
   },
   "outputs": [
    {
     "data": {
      "text/html": [
       "<p><strong style='color: red;'><pre style='display: inline;'>q19</pre> results:</strong></p><p><strong><pre style='display: inline;'>q19 - 1</pre> result:</strong></p><pre>    Trying:\n",
       "        p8_test.check(\"q19\", jen_aniston_genre)\n",
       "    Expecting:\n",
       "        True\n",
       "    **********************************************************************\n",
       "    Line 1, in q19 0\n",
       "    Failed example:\n",
       "        p8_test.check(\"q19\", jen_aniston_genre)\n",
       "    Expected:\n",
       "        True\n",
       "    Got:\n",
       "        <b style='color: red;'>ERROR:</b> expected 'Comedy' but found 'Horror'\n",
       "</pre>"
      ],
      "text/plain": [
       "q19 results:\n",
       "    q19 - 1 result:\n",
       "        Trying:\n",
       "            p8_test.check(\"q19\", jen_aniston_genre)\n",
       "        Expecting:\n",
       "            True\n",
       "        **********************************************************************\n",
       "        Line 1, in q19 0\n",
       "        Failed example:\n",
       "            p8_test.check(\"q19\", jen_aniston_genre)\n",
       "        Expected:\n",
       "            True\n",
       "        Got:\n",
       "            <b style='color: red;'>ERROR:</b> expected 'Comedy' but found 'Horror'"
      ]
     },
     "execution_count": 50,
     "metadata": {},
     "output_type": "execute_result"
    }
   ],
   "source": [
    "grader.check(\"q19\")"
   ]
  },
  {
   "cell_type": "markdown",
   "id": "58f8029b",
   "metadata": {
    "deletable": false,
    "editable": false
   },
   "source": [
    "**Question 20:** Who are the `directors` of the *Documentary* movies with the **highest** `rating` in the movies dataset?\n",
    "\n",
    "There are **multiple** *Documentary* movies in the dataset with the joint highest rating. You **must** output a **list** of **strings** containing the **names** of **all** the `directors` of **all** these movies.\n",
    "\n",
    "**Hint:** If you are unsure how to efficiently add the elements of one list to another, take a look at the [lecture slides](https://git.doit.wisc.edu/cdis/cs/courses/cs220/cs220-lecture-material/-/tree/main/f22/meena_lec_notes/lec-14) from October 10."
   ]
  },
  {
   "cell_type": "code",
   "execution_count": 51,
   "id": "8a7f5a12",
   "metadata": {
    "tags": []
   },
   "outputs": [
    {
     "data": {
      "text/plain": [
       "[['Gary Beeber'],\n",
       " ['Molly Hermann'],\n",
       " ['Richard Dennison'],\n",
       " ['Cevin Soling'],\n",
       " ['Kate Davis', 'David Heilbroner'],\n",
       " ['Susan Froemke', 'John Hoffman', 'Beth Aala'],\n",
       " ['Mats Almegard', 'Hanna Kihlander', 'Hakan Lidbo', 'Andreas Tilliander'],\n",
       " ['Pepe Danquart', 'Mirjam Quinte'],\n",
       " ['Kevin Macdonald'],\n",
       " ['Alan Root'],\n",
       " ['Mauro Colombo'],\n",
       " ['Wayne Leman'],\n",
       " ['Jacob Freydont-Attie'],\n",
       " ['Matt Timmiss'],\n",
       " ['Bill Dumas', 'Rajeev Nirmalakhandan'],\n",
       " ['Tobias Wyss'],\n",
       " ['Paul Marlow'],\n",
       " ['Marek Tomasz Pawlowski'],\n",
       " ['Cosimo Messeri'],\n",
       " ['Kyle J. Macias'],\n",
       " ['Lennart Ehrenborg', 'Thor Heyerdahl'],\n",
       " ['Danny Abel'],\n",
       " ['Pete Jones'],\n",
       " ['Werner Herzog'],\n",
       " ['Gerard-Jan Claes', 'Olivia Rochette'],\n",
       " ['Ara Chekmayan'],\n",
       " ['Myriam Alaux', 'Victor Schonfeld'],\n",
       " ['Daniele Babbo'],\n",
       " ['Jen Gilomen', 'Sally Rubin'],\n",
       " ['Mark Davis'],\n",
       " ['Tom Murray'],\n",
       " ['Giovanni Iacobucci'],\n",
       " ['Victor H. Mancilla'],\n",
       " ['TT The Artist'],\n",
       " ['Jeremy Norrie'],\n",
       " ['Luc Jacquet'],\n",
       " ['Kortney Ryan Ziegler'],\n",
       " ['Andie Hicks'],\n",
       " ['Tyshun Wardlaw'],\n",
       " ['John E. Maher'],\n",
       " ['Saida Medvedeva', 'Jirka Rysavy'],\n",
       " ['Harvey Hubbell V'],\n",
       " ['David Krentz', 'Erik Nelson', 'David E. Duncan'],\n",
       " ['Robert Ballo'],\n",
       " ['Andrew Billman'],\n",
       " ['Cora Anne'],\n",
       " ['Henri Charr'],\n",
       " ['Joshua Seftel'],\n",
       " ['Amir Jaffer'],\n",
       " ['Pantelis Voulgaris'],\n",
       " ['Mike Franklin'],\n",
       " ['Carl Cimini'],\n",
       " ['Ilinca Calugareanu'],\n",
       " ['Gino Raphael Payne'],\n",
       " ['John Laurence'],\n",
       " ['Michael Krukar'],\n",
       " ['Robin Beeck'],\n",
       " ['Mitch McCabe'],\n",
       " ['Joseph P. Mawra'],\n",
       " ['Steve Mims'],\n",
       " ['Lalo Molina'],\n",
       " ['Oleg Kovalov'],\n",
       " ['Kamy Lara'],\n",
       " ['Richard Trank'],\n",
       " ['Ivan Cotroneo'],\n",
       " ['De Bruno Austin Garth'],\n",
       " ['Robert Horsting', 'Craig Yahata'],\n",
       " ['Philip Gardiner'],\n",
       " ['Alex Albanese', 'Dugan Rosalini'],\n",
       " ['Shôhei Imamura'],\n",
       " ['Wheeler Dixon'],\n",
       " ['Hugo Van Lawick'],\n",
       " ['Laura Poitras'],\n",
       " ['Jem Cohen'],\n",
       " ['Owsley Brown'],\n",
       " ['Brandon Crowson'],\n",
       " ['Diego Governatori'],\n",
       " ['Jae-eun Jeong'],\n",
       " ['Roger Gastman'],\n",
       " ['Robert Bayne'],\n",
       " ['Monroe Beehler', 'Tom DeSimone'],\n",
       " ['Johnny Gogan'],\n",
       " ['Jordan River'],\n",
       " ['Mohammad Reza Aslani'],\n",
       " ['Jeff Herberger'],\n",
       " ['Jodi Gomes'],\n",
       " ['John K. Webster'],\n",
       " ['Pailin Wedel'],\n",
       " ['Matthew Cooke'],\n",
       " ['Raúl Ruiz'],\n",
       " ['Joshua Waletzky'],\n",
       " ['Stanley Nelson'],\n",
       " ['Kami Chisholm', 'Elizabeth Stark'],\n",
       " ['Paul Wittenberger'],\n",
       " ['Colin Trevorrow'],\n",
       " ['Nick Randall'],\n",
       " ['Christoph Bohn'],\n",
       " ['James Franco', 'Gus Van Sant'],\n",
       " ['Greg MacGillivray'],\n",
       " ['Michael Mindlin'],\n",
       " ['Tim Helfen'],\n",
       " ['Gino del Guercio'],\n",
       " ['Mark Cwiakala'],\n",
       " ['Nicole Nielsen Horanyi'],\n",
       " ['Olivier Zuchuat'],\n",
       " ['Michael Kirk'],\n",
       " ['Sheldon M. Kaplan'],\n",
       " ['Adam R. Wood'],\n",
       " ['Hunter Johnson'],\n",
       " ['Richard Altomonte'],\n",
       " ['Michèle Stephenson'],\n",
       " ['T.N. Mohan'],\n",
       " ['Hans Fjellestad'],\n",
       " ['Amy Miller'],\n",
       " ['Michael Brown'],\n",
       " ['John W. Walter'],\n",
       " ['Christopher Riley'],\n",
       " ['Wendy Apple'],\n",
       " ['Tamra Davis'],\n",
       " ['Reed Grinsell', 'Steve Sunshine'],\n",
       " ['André Forcier',\n",
       "  'Geneviève Allard',\n",
       "  'Paule Baillargeon',\n",
       "  'Philippe Baylaucq',\n",
       "  'Michel Brault',\n",
       "  'Marie-Julie Dallaire'],\n",
       " ['Michael Bonfiglio'],\n",
       " ['Mark Bussler'],\n",
       " ['Ken Sons'],\n",
       " ['Ron Meyer'],\n",
       " ['Tara Wray'],\n",
       " ['Stephen Hansen'],\n",
       " ['Nicole Zwiren'],\n",
       " ['Eric Steel'],\n",
       " ['Grigoriy Aleksandrov', 'Sergei Eisenstein'],\n",
       " ['Stephanie Silber', 'Victor Zimet'],\n",
       " ['Jeff Sumerel'],\n",
       " ['Fenton Bailey', 'Randy Barbato'],\n",
       " ['Fahmi Farahat'],\n",
       " ['Brian Gillogly'],\n",
       " ['David Morris', 'Jacqui Morris'],\n",
       " ['Tora Mårtens'],\n",
       " ['Lilian Franck', 'Thomas Schlottmann'],\n",
       " ['Tiffany Johnson', 'Kiana Moore'],\n",
       " ['Amadeusz Kocan'],\n",
       " ['Michael Roland Williams'],\n",
       " ['Martín Farina'],\n",
       " ['Cameron Brunt'],\n",
       " ['Darrin Dick'],\n",
       " ['Ben Wolfinsohn'],\n",
       " ['Fernando Villena'],\n",
       " ['Pavel Kogan', 'Lily van den Bergh'],\n",
       " ['Jay Freund', 'David Wolf'],\n",
       " ['Jani Sever'],\n",
       " ['Thierry Donard'],\n",
       " ['Gérard Alcan'],\n",
       " ['Dick Fontaine', 'Pat Hartley'],\n",
       " ['Ulrich Seidl'],\n",
       " ['Jill Godmilow'],\n",
       " ['Jennifer Clymer', 'Marijane Miller'],\n",
       " ['Femke van Velzen', 'Ilse van Velzen'],\n",
       " ['Warren Croyle'],\n",
       " ['Sarah Moshman'],\n",
       " ['Callum Drummond', 'Axel Haudiquet'],\n",
       " ['Matt Poitras'],\n",
       " ['Eric Merola'],\n",
       " ['Nicolas Brown'],\n",
       " ['Ezra Bookstein'],\n",
       " ['Caspar Mazzotti', 'Paul Phelan'],\n",
       " ['Stacey Lee'],\n",
       " ['Gerard Lohan'],\n",
       " ['Daizy Gedeon'],\n",
       " ['Adam Berman'],\n",
       " ['Bakhodir Yuldashev'],\n",
       " ['Greg Becker'],\n",
       " ['Rafael Duarte'],\n",
       " ['Michael Fahey'],\n",
       " ['Luciano Blotta'],\n",
       " ['Joakim Demmer'],\n",
       " ['Marie Clements'],\n",
       " ['Daniel Saldaña'],\n",
       " ['Pierre Stine'],\n",
       " ['Erika Hníková'],\n",
       " ['Arnd Wachter'],\n",
       " ['Richard Dewey', 'Timothy Marrinan'],\n",
       " ['Jason Gary', 'Greg Jacobson'],\n",
       " ['Christopher Hines'],\n",
       " ['Ross Greenburg', 'Jim Podhoretz'],\n",
       " ['Gábor Zsigmond Papp'],\n",
       " ['Brian Cunningham', 'Joe Laughrey'],\n",
       " ['Bob Rose'],\n",
       " ['Michiel van den Bergh'],\n",
       " ['Marc Berlin'],\n",
       " ['Jim Taylor'],\n",
       " ['Michael Steed', 'Gillian Brown'],\n",
       " ['Pieter-Rim de Kroon'],\n",
       " ['David Di Sabatino'],\n",
       " ['Emanuela Audisio', 'Matteo Patrono'],\n",
       " ['Adam Schmedes'],\n",
       " ['Aaron Sayers'],\n",
       " ['Leila Conners'],\n",
       " ['Booker Sim'],\n",
       " ['Pelin Esmer'],\n",
       " ['Rick Altizer'],\n",
       " ['Ulrich Seidl'],\n",
       " ['Tim Forbes'],\n",
       " ['Hermann Leitner', 'Rudolf Nussgruber'],\n",
       " ['Joseph Mazzaferro'],\n",
       " ['Tadashi Nakamura'],\n",
       " ['Lazar Vukovic'],\n",
       " ['Malcolm Clarke', 'Stuart Sender'],\n",
       " ['Guillermo de Oliveira'],\n",
       " ['David H. Vowell'],\n",
       " ['Judit Elek'],\n",
       " ['David A. Sarich'],\n",
       " ['Marc Shaffer'],\n",
       " ['Frank Jacob'],\n",
       " ['Bill Ward', 'Mike West'],\n",
       " ['Ulrich Seidl'],\n",
       " ['Hernán Zin'],\n",
       " ['Vatche Arabian'],\n",
       " ['Terry Strauss'],\n",
       " ['Rebecca Panian'],\n",
       " ['Takuji Masuda'],\n",
       " ['Paige Williams'],\n",
       " ['David Hoffman'],\n",
       " ['Marc Fields'],\n",
       " ['Anita Natmeßnig'],\n",
       " ['Jeff Tremaine'],\n",
       " ['Amir Muhammad'],\n",
       " ['Michel Brault', 'Pierre Perrault'],\n",
       " ['Petra Höfer', 'Freddie Röckenhaus'],\n",
       " ['Alexei Jankowski'],\n",
       " ['Chuck Potter'],\n",
       " ['Jonathan Mayo'],\n",
       " ['Richard Bond'],\n",
       " ['Jue-Ming Mai'],\n",
       " ['Brian Tetsuro Ivie'],\n",
       " ['Richard Martini'],\n",
       " ['Seth Breedlove'],\n",
       " ['Phil Grabsky'],\n",
       " ['Jouko Aaltonen'],\n",
       " ['Antonio Ferrera', 'Albert Maysles', 'David Maysles', 'Matthew Prinzing'],\n",
       " ['Greg Fredette'],\n",
       " ['Maria Finitzo'],\n",
       " ['Timothy Marklevitz'],\n",
       " ['Alex Lee Moyer'],\n",
       " ['Michelle Citron'],\n",
       " ['Sasha Reuther'],\n",
       " ['Patrice Pooyard'],\n",
       " ['Pavol Barabas'],\n",
       " ['Stevan Riley'],\n",
       " ['Louis Alvarez', 'Andy Kolker'],\n",
       " ['J.F. Musial', 'Josh Vietze'],\n",
       " ['Jon Bowermaster'],\n",
       " ['Graeme Duane'],\n",
       " ['Ben Epstein'],\n",
       " ['Mark Dooley'],\n",
       " ['Robert Amram'],\n",
       " ['Franco di Chiera'],\n",
       " ['Raed Rafei', 'Rania Rafei'],\n",
       " ['Graeme Duane'],\n",
       " ['Luciana Pedraza'],\n",
       " ['Phil Schaaf'],\n",
       " ['Brian Davis'],\n",
       " ['Michael Reuter', 'Gregor Wille'],\n",
       " ['Manny Rodriguez', 'Jay Lavender'],\n",
       " ['Pierre Perrault'],\n",
       " ['Ash Patino'],\n",
       " ['Manmord Sidhu'],\n",
       " ['Pat Collins', 'Fergus Daly'],\n",
       " ['Isaac Feder'],\n",
       " ['Tim Cowles'],\n",
       " ['Baltazar Tokman'],\n",
       " ['Matthew Testa'],\n",
       " ['Boris Miljkovic'],\n",
       " ['Jeremy Norrie'],\n",
       " ['Freida Lee Mock', 'Terry Sanders'],\n",
       " ['Sean Mullens'],\n",
       " ['Robert Townsend'],\n",
       " ['Constanze Ruhm'],\n",
       " ['Don Sikorski'],\n",
       " ['Sadri Cetinkaya'],\n",
       " ['Seth Kramer', 'Daniel A. Miller', 'Jeremy Newberger'],\n",
       " ['Steve York'],\n",
       " ['Alicia Brauns', 'Christine Steele'],\n",
       " ['Kevin R. Hershberger'],\n",
       " ['Kevin Ekvall'],\n",
       " ['Constance Brenneman',\n",
       "  'Brad Hammer Constance Elizabeth Brenneman',\n",
       "  'Constance Elizabeth',\n",
       "  'Brad Hammer'],\n",
       " ['Lech Kowalski'],\n",
       " ['Norman Hull'],\n",
       " ['Michael Beattie', 'Sai Kelly'],\n",
       " ['Leslie Neale'],\n",
       " ['Lav Diaz'],\n",
       " ['Lily Benson', 'Cassandra Guan'],\n",
       " ['Chris Toussaint'],\n",
       " ['Tommy Reid'],\n",
       " ['Nick Robinson'],\n",
       " ['Ken Sable'],\n",
       " ['Michael H. Perlin'],\n",
       " ['Tyler Hubby'],\n",
       " ['Thomas Gaunt'],\n",
       " ['April Anderson'],\n",
       " ['Peter Baxter'],\n",
       " ['Mike Herd'],\n",
       " ['Jake Jaxson'],\n",
       " ['Jose Prendes'],\n",
       " ['John C. Brown', 'Bert Simonis'],\n",
       " ['Jamie Uys'],\n",
       " ['David W. Rolfe'],\n",
       " ['Joseph Richard Johnson Camí'],\n",
       " ['Felicia Giouzelis'],\n",
       " ['Barbara Hammer'],\n",
       " ['Dermot Lavery Michael Hewitt', 'Michael Hewitt', 'Dermot Lavery'],\n",
       " ['Xiaolu Guo'],\n",
       " ['Milena Pastreich'],\n",
       " ['Rebecca Friedlander'],\n",
       " ['Mark Steensland'],\n",
       " ['Shaun Mathis', 'Jemonique Miller'],\n",
       " ['Marco Ricci'],\n",
       " ['George Lowe'],\n",
       " ['Robert Carter'],\n",
       " ['Rafael Balulu'],\n",
       " ['David Lee Madison'],\n",
       " ['Kriv Stenders'],\n",
       " ['Alan Bradley'],\n",
       " ['Steven C. Barber', 'Leon Cooper'],\n",
       " ['Ethan H. Minsker'],\n",
       " ['John Maringouin'],\n",
       " ['Adriana Trigiani'],\n",
       " ['Denis Delestrac', 'Sandrine Feydel'],\n",
       " ['Anca Damian'],\n",
       " ['Neten Chokling'],\n",
       " ['Elisabeth Thieriot'],\n",
       " ['Zhimin Sheng'],\n",
       " ['Sara Broos'],\n",
       " ['Steve Jones', 'Jon Klaczkiewicz'],\n",
       " ['Sönke Wortmann'],\n",
       " ['Jennifer Peedom'],\n",
       " ['Gregory Juaren'],\n",
       " ['Regev Contes'],\n",
       " ['Christian Duffy'],\n",
       " ['Alan Baker'],\n",
       " ['Lori Joyce', 'Candice Orlando'],\n",
       " ['Bryant Botero'],\n",
       " ['Dawn Gifford Engle'],\n",
       " ['Lawrence Webb'],\n",
       " ['Gideon C. Kennedy', 'Marcus Rosentrater'],\n",
       " ['Marco Porsia'],\n",
       " ['Shaun Jefford'],\n",
       " ['Albert Nerenberg'],\n",
       " ['Patricia Chica', 'Mike Wafer'],\n",
       " ['Guto Barra'],\n",
       " ['Stephen Judson'],\n",
       " ['Machiel Amorison', 'Susan Wolf'],\n",
       " ['Howard Skora'],\n",
       " ['Kalliopi Legaki'],\n",
       " ['Jean-Baptiste Péretié'],\n",
       " ['Heinz Bütler'],\n",
       " ['Gail Blundell', 'Philip Rainford'],\n",
       " ['Lachlan Mcleod'],\n",
       " ['Elena Rossini'],\n",
       " ['Jeremiah Munce'],\n",
       " ['Mathieu Zeitindjioglou'],\n",
       " ['Thi Trinh Nguyen'],\n",
       " ['Varda Bar-Kar'],\n",
       " ['Guido Hendrikx'],\n",
       " ['Don Hardy', 'Dana Nachman'],\n",
       " ['Bill MacDonald'],\n",
       " ['Erich Weiss'],\n",
       " ['Robert May'],\n",
       " ['Doug Orchard'],\n",
       " ['Charlie Minn'],\n",
       " ['Noel Buckner', 'Mary Dore', 'Sam Sills'],\n",
       " ['Jason Boritz'],\n",
       " ['Dan Dobi'],\n",
       " ['Darrin Peloquin'],\n",
       " ['Jon Erwin', 'Ben Smallbone'],\n",
       " ['Jeremy Norrie'],\n",
       " ['Luis Pedron'],\n",
       " ['André van Heerden'],\n",
       " ['Anton Corbijn'],\n",
       " ['Martín Farina'],\n",
       " ['Emmanuelle Demoris'],\n",
       " ['Marko Röhr', 'Kim Saarniluoto'],\n",
       " ['Laurel Chiten'],\n",
       " ['Rithy Panh'],\n",
       " ['Ben Bacharach-White'],\n",
       " ['Peter Ferriero'],\n",
       " ['Jonathan Pascual'],\n",
       " ['Bradley J. Howard'],\n",
       " ['Wim Wenders'],\n",
       " ['Carlos Alfonso Corral'],\n",
       " ['Gregory Orr'],\n",
       " ['Stanley Milgram'],\n",
       " ['William A. Kirkley'],\n",
       " ['Danielle Winter'],\n",
       " ['James Ivory'],\n",
       " ['Joost Vandebrug'],\n",
       " ['Albert Lamorisse'],\n",
       " ['Antonia Grace Glenn'],\n",
       " ['Lauren Fash', 'Ryan Suffern'],\n",
       " ['Gillian Scott-Ward'],\n",
       " ['Jake Auerbach'],\n",
       " ['Antongiulio Panizzi'],\n",
       " ['Celina Escher'],\n",
       " ['Faythe Levine'],\n",
       " ['Tommy Davis'],\n",
       " ['Zsolt Luka'],\n",
       " ['Julia Mariano', 'Éthel Oliveira'],\n",
       " ['Michael Landsberg'],\n",
       " ['Nicolas Noxon', 'Irwin Rosten'],\n",
       " ['Alan Rosenblith'],\n",
       " ['Kief Davidson'],\n",
       " ['Nicholas Hansen'],\n",
       " ['Stephen Low'],\n",
       " ['Victor Kanefsky', 'Tim Lovejoy', 'Joe Wemple'],\n",
       " ['Grzegorz Pacek'],\n",
       " ['Kristian Petri'],\n",
       " ['Jesse Morrow'],\n",
       " ['Aldo Garay'],\n",
       " ['William Burke'],\n",
       " ['Malcom Carter'],\n",
       " ['Tyson Culver'],\n",
       " ['Brian F. Patrick'],\n",
       " ['Beth Elise Hawk'],\n",
       " ['David Salzberg', 'Christian Tureaud'],\n",
       " ['Seth Breedlove'],\n",
       " ['Johnny Sweet'],\n",
       " ['Sophia Nahli Allison'],\n",
       " ['John Daschbach'],\n",
       " ['Brett Story'],\n",
       " ['Alice Bouvrie'],\n",
       " ['Drew Emery'],\n",
       " ['Jesse Barrett-Mills', 'Daniel Gallai'],\n",
       " ['Katja Raganelli', 'Konrad Wickler'],\n",
       " ['Ben Pearson'],\n",
       " ['Monika Treut'],\n",
       " ['Randy Holland'],\n",
       " ['Mama Googa'],\n",
       " ['Adam Kokontis'],\n",
       " ['Mani Mehrvarz'],\n",
       " ['Andrea Meller'],\n",
       " ['Lee Auerbach', 'Peter Matulavich'],\n",
       " ['Jason Moriarty'],\n",
       " ['Antoine Tassin'],\n",
       " ['Gurgen Balasanyan', 'Levon Isahakyan', 'G. Zargaryan'],\n",
       " ['Tracy Atkinson', 'Joan Baran'],\n",
       " ['Matteo Borgardt'],\n",
       " ['Shane Sutton'],\n",
       " ['Jacqueline Caux'],\n",
       " ['Robin Lung'],\n",
       " ['Hisani DuBose'],\n",
       " ['Margaret Byrne'],\n",
       " ['Cris Macht'],\n",
       " ['David Sington'],\n",
       " ['Maryam Goormaghtigh'],\n",
       " ['Jim Burroughs'],\n",
       " ['Frédéric Rossif'],\n",
       " ['Michael Dominic'],\n",
       " ['Randall Wilson'],\n",
       " ['Dheeraj Akolkar'],\n",
       " ['Carlos Alberto de Souza Barros', 'Giuseppe Maria Scotese'],\n",
       " ['Paola Calvo', 'Patrick Jasim'],\n",
       " ['Louie Schwartzberg'],\n",
       " ['Eleni Alexandraki'],\n",
       " ['Khashyar Darvich'],\n",
       " ['Volya Dzemka'],\n",
       " ['George Gale'],\n",
       " ['Carlos Benpar'],\n",
       " ['Mick Csaky'],\n",
       " ['Kamir Méridja'],\n",
       " ['Douglas Tirola'],\n",
       " ['Jamin Bricker'],\n",
       " ['Audrey Brohy', 'Gerard Ungerman'],\n",
       " ['Bahman Maghsoudlou'],\n",
       " ['Bonnie Hawthorne'],\n",
       " ['Sergio Gregori Marugán'],\n",
       " ['Pawel Lozinski'],\n",
       " ['Sonja De Vries'],\n",
       " ['Paul Festa'],\n",
       " ['Ethan Michaels'],\n",
       " ['Manfred Blank'],\n",
       " ['Steve Purcell'],\n",
       " ['Judith Ehrlich'],\n",
       " ['Nicolas Blies', 'Stéphane Hueber-Blies', 'Denis Lambert'],\n",
       " ['Mark Verkerk'],\n",
       " ['Mike Shiley'],\n",
       " ['John Chester'],\n",
       " ['Kristy Guevara-Flanagan'],\n",
       " ['Lisa Scafuro'],\n",
       " ['Edward Saltau'],\n",
       " ['Tony Hardmon', 'Rachel Libert'],\n",
       " ['Alejandro Venturini'],\n",
       " ['Matteo Tortone'],\n",
       " ['Jason Epperson'],\n",
       " ['Richard Kilberg'],\n",
       " ['Mat Hames'],\n",
       " ['Pascal Plisson'],\n",
       " ['Laurence Sunderland'],\n",
       " ['Lisa Weber'],\n",
       " ['Phillip Warnell'],\n",
       " ['Giacomo Franciosa'],\n",
       " ['Justin Krumb'],\n",
       " ['Steve James'],\n",
       " ['Robert Orlando'],\n",
       " ['Slavko Martinov'],\n",
       " ['Brent Sumner'],\n",
       " ['David Naglieri'],\n",
       " ['Ri-Karlo Handy'],\n",
       " ['Kimberli Zou'],\n",
       " ['Aaron Kunkel'],\n",
       " ['Kristian Fraga'],\n",
       " ['Erin Zimmerman'],\n",
       " ['Murat Eyuboglu'],\n",
       " ['Bernhard Grzimek', 'Michael Grzimek'],\n",
       " ['Thomas Lauterbach'],\n",
       " ['Brent Sterling Nemetz', 'Abby Russell', 'Brent Nemetz'],\n",
       " ['Jason Pollock'],\n",
       " ['Susan Rivo'],\n",
       " ['Michael Ryan Lawrence'],\n",
       " ['Evert van den Bos'],\n",
       " ['Larry Weinstein'],\n",
       " ['Mark Wilkinson'],\n",
       " ['Reno Dakota'],\n",
       " ['Megumi Sasaki'],\n",
       " ['Charles F. Larimer'],\n",
       " ['Ric Acevedo'],\n",
       " ['Tate Zandstra', 'Phil Brown'],\n",
       " ['Gregg Gibbs'],\n",
       " ['Robert Arnold'],\n",
       " ['Régis Brochier'],\n",
       " ['Henrique Pina'],\n",
       " ['Ben Garvin', 'Lindsey Seavert'],\n",
       " ['Billy Luther'],\n",
       " ['Roger Nygard'],\n",
       " ['Radu Ciorniciuc'],\n",
       " ['Nicholas de Pencier'],\n",
       " ['Jared Young', 'Matthew Young'],\n",
       " ['Dawn Gifford Engle'],\n",
       " ['Sophie Fiennes'],\n",
       " ['Christopher Hines'],\n",
       " ['Judith Dwan Hallet'],\n",
       " ['Lauren DeFilippo', 'Katherine Gorringe'],\n",
       " ['Reginald Titus Jr.'],\n",
       " ['Victor Silverman', 'Susan Stryker'],\n",
       " ['Eric Merola'],\n",
       " ['Hannes Michael Schalle'],\n",
       " ['Jasmine Stodel'],\n",
       " ['Xavier Lefebvre'],\n",
       " ['James Lane'],\n",
       " ['Serafeim Dousias'],\n",
       " ['Marcela Arteaga'],\n",
       " ['Barry Walton'],\n",
       " ['Caroline Cory'],\n",
       " ['Brad Bemis', 'Gary Davies'],\n",
       " ['Christophe Gargot'],\n",
       " ['Gianni Minà'],\n",
       " ['Laurence Madrigal'],\n",
       " ['Aishah Shahidah Simmons'],\n",
       " ['Neil Greathouse'],\n",
       " ['Hannah Storm'],\n",
       " ['Aaron D. Weisblatt'],\n",
       " ['Billy Corben'],\n",
       " ['Jessica Yu'],\n",
       " ['Abdel Salam Shehada'],\n",
       " ['Tim Hotchner'],\n",
       " ['Lizzie Gottlieb'],\n",
       " ['Mike Jacobs'],\n",
       " ['Juliana Curi'],\n",
       " ['Rachel Mills'],\n",
       " ['Lutz Eisholz'],\n",
       " ['Andrew Erwin', 'Jon Erwin'],\n",
       " ['Tim Gray'],\n",
       " ['Bill Duke'],\n",
       " ['Toni Harman', 'Alex Wakeford'],\n",
       " ['Peter Werner'],\n",
       " ['Roman Zenz'],\n",
       " ['Philip Swift'],\n",
       " ['Laurent Basset', 'Richard Hall'],\n",
       " ['Manfred Becker'],\n",
       " ['Scooter Downey'],\n",
       " ['Rory Karpf'],\n",
       " ['Nickolas Perry', 'Harry Thomason'],\n",
       " ['Yang Zhang'],\n",
       " ['Nick Stevenson'],\n",
       " ['Bill Benenson'],\n",
       " ['Jeff Renfroe'],\n",
       " ['Chris Mancuso'],\n",
       " ['Schani Krug'],\n",
       " ['Brandon D. Lunsford', 'Brian M. McKnight'],\n",
       " ['Eliane Raheb'],\n",
       " ['Jerome Gary'],\n",
       " ['Christopher Felver'],\n",
       " ['Joost van Rees'],\n",
       " ['Emmanuel Finkiel'],\n",
       " ['Joshua I. Miller', 'Sam Rega', 'Jorge Valdés-Iga'],\n",
       " ['Michel Negroponte'],\n",
       " ['Mattias Ohlsson'],\n",
       " ['Javier Polo Gandía'],\n",
       " ['Kevin Fritz'],\n",
       " ['Iva Radivojevic'],\n",
       " ['William Sachs'],\n",
       " ['Costanzo Allione'],\n",
       " ['Canaan Brumley'],\n",
       " ['Rudy Hypolite'],\n",
       " ['Steve Greisen'],\n",
       " ['Bob Talbot'],\n",
       " ['David Rollins'],\n",
       " ['Maureen Goldthorpe'],\n",
       " ['Paul Lamont'],\n",
       " ['Jeremy Glaholt', 'Lydia Schamschula'],\n",
       " ['Jeremy Jones'],\n",
       " ['Michael Paxton'],\n",
       " ['Larry Foley'],\n",
       " ['Leslie Small', 'Tim Story'],\n",
       " ['Audrey Brohy', 'Gerard Ungerman'],\n",
       " ['Jean Rouch'],\n",
       " ['Philip Gardiner'],\n",
       " ['J. Michael Hagopian'],\n",
       " ['Carol Black'],\n",
       " ['Sung-a Yoon'],\n",
       " ['Peter Kern'],\n",
       " ['Todd Warger', 'Brian Young'],\n",
       " ['Missy Palmer'],\n",
       " ['Julian P. Hobbs'],\n",
       " ['Sonia Tercero Ramiro'],\n",
       " ['Sean Patrick Fahey'],\n",
       " ['Ruth Leitman'],\n",
       " ['O.H. Krill'],\n",
       " ['Vlad Yudin'],\n",
       " ['Bart Layton'],\n",
       " ['Ken Henderson', 'Lesa Henderson'],\n",
       " ['Doug Smith'],\n",
       " ['Ryan Butler'],\n",
       " ['Dave Grohl'],\n",
       " ['Peter Nelson'],\n",
       " ['Neil Hollander', 'Harald Mertes'],\n",
       " ['Nora Lam'],\n",
       " ['Tim Gray'],\n",
       " ['Matthew Carnahan', 'John Philp'],\n",
       " ['Alan Govenar'],\n",
       " ['Sascha Rice'],\n",
       " ['J. Michael Long'],\n",
       " ['Mariah Moore'],\n",
       " ['Ilona Siller', 'Lane Siller'],\n",
       " ['Ben Ryder'],\n",
       " ['Shan Nicholson'],\n",
       " ['Theodore Holcomb', 'Kira Muratova'],\n",
       " ['Sonia Kronlund'],\n",
       " ['Dheeraj Akolkar'],\n",
       " ['Renea Roberts'],\n",
       " ['Karuna Eberl'],\n",
       " ['Michael Glover'],\n",
       " ['Mike Jacobs'],\n",
       " ['Dorottya Zurbó'],\n",
       " ['Leila Conners'],\n",
       " ['John Borden'],\n",
       " ['Micah Brown'],\n",
       " ['Rick King'],\n",
       " ['Alexandre Peralta'],\n",
       " ['Ting-Kit Lo'],\n",
       " ['Mike Douglas', 'Anthony Bonello'],\n",
       " ['Jessica Yu'],\n",
       " ['Hallee Adelman', \"Sean King O'Grady\"],\n",
       " ['Julia Ivanova'],\n",
       " ['Dawn Logsdon'],\n",
       " ['Murray Grigor'],\n",
       " ['Marcus Vetter', 'Karin Steinberger'],\n",
       " ['Michael Noer'],\n",
       " ['Gregg Gibbs'],\n",
       " ['Phillip Warnell'],\n",
       " ['Seth Kramer', 'Daniel A. Miller', 'Jeremy Newberger'],\n",
       " ['Jennifer Greenstreet'],\n",
       " ['Phil Grabsky'],\n",
       " ['Jan Lindqvist'],\n",
       " ['Jim Hoppin'],\n",
       " ['Oren Jacoby'],\n",
       " ['Jennifer Steinman Sternin'],\n",
       " ['Tamar Yarom'],\n",
       " ['Sander Francken'],\n",
       " ['Rob VanAlkemade'],\n",
       " ['Jeff MacIntyre', 'Jay Smith'],\n",
       " ['Nneka Onuorah'],\n",
       " ['Philippe Calderon'],\n",
       " ['Sam Neill'],\n",
       " ['Katharina Gellein Viken'],\n",
       " ['Gulya Mirzoeva'],\n",
       " ['Arthur Bradford'],\n",
       " ['Timothy George Kelly'],\n",
       " ['Brett Gerking'],\n",
       " ['Jedrek Nadobnik'],\n",
       " ['James Colquhoun', 'Laurentine Ten Bosch', 'Carlo Ledesma'],\n",
       " ['Richard Hankin'],\n",
       " ['Robert Richter'],\n",
       " ['Luca Lucini', 'Nico Malaspina'],\n",
       " ['Jeremy Norrie'],\n",
       " ['Ralph Torjan'],\n",
       " ['Tong Xu'],\n",
       " ['Cortlandt Hull'],\n",
       " ['Theo Uittenbogaard'],\n",
       " ['Tom Kuhn', 'Fred Weintraub'],\n",
       " ['Anna Rodzinski'],\n",
       " ['Cyril Thomas', 'Sabrina Van Tassel'],\n",
       " ['Julie Benasra'],\n",
       " ['Ryan Katzenbach'],\n",
       " ['Nanette Burstein', 'Brett Morgen'],\n",
       " ['Eric Ellena', 'Berna Huebner'],\n",
       " ['Annalisa Piras'],\n",
       " ['Dwayne Buckle'],\n",
       " ['Godfrey Cheshire'],\n",
       " ['Kurt Miller', 'Hans Rosenwinkel'],\n",
       " ['Pippa Scott', 'Oreet Rees'],\n",
       " ['Jan Kaplan', 'Krystyna Kaplan'],\n",
       " ['Wendy Robbins'],\n",
       " ['John Bruno', 'Ray Quint', 'Andrew Wight'],\n",
       " ['Mark Kitchell'],\n",
       " ['Fumihiko Katô'],\n",
       " [\"Thomas P. O'Connor\"],\n",
       " ['Connie Field'],\n",
       " ['Robin S. Clark'],\n",
       " ['Josh Greenbaum'],\n",
       " ['Patrick Jerome'],\n",
       " ['Ken Spurgeon'],\n",
       " ['Mike Ramsdell'],\n",
       " ['Danny Vinik'],\n",
       " ['Sarah Mondale'],\n",
       " ['Diana Whitten'],\n",
       " ['Fernando Gonzáles Sitges'],\n",
       " ['Hrafnhildur Gunnarsdóttir', 'Þorvaldur Kristinsson'],\n",
       " ['Anastasiya Miroshnichenko'],\n",
       " ['Karel van den Berg'],\n",
       " ['Aaron Bear'],\n",
       " ['Jordan Albertsen'],\n",
       " ['Josh Pomer'],\n",
       " ['Jim Fields'],\n",
       " ['Jens Hoffmann'],\n",
       " ['Gary Hustwit'],\n",
       " ['Cedric Dahl'],\n",
       " ['Tommy Gulliksen'],\n",
       " ['Jamie Jean'],\n",
       " ['A.J. Martinson'],\n",
       " ['Jeremy Norrie'],\n",
       " ['Sheldon Rochlin'],\n",
       " ['Alexandre O. Philippe'],\n",
       " ['Saskia Gubbels'],\n",
       " ['Glenn Switkes'],\n",
       " ['Peter Mervis'],\n",
       " ['Gustavo Vinagre'],\n",
       " ['Tim Cherry'],\n",
       " ['Mark Becker'],\n",
       " ['Robert Townsend'],\n",
       " ['Gregory Smith'],\n",
       " ['Robert Kaylor'],\n",
       " ['James Benning'],\n",
       " ['David Bickerstaff'],\n",
       " ['Phil Allocco'],\n",
       " ['Luca Viotto'],\n",
       " ['Mithun Mohan Udyawar',\n",
       "  'Richie Mehta',\n",
       "  'Aniruddha Chatterjee',\n",
       "  'Mandira Chauhan',\n",
       "  'Ritesh Ghosh',\n",
       "  'Amit Kamble',\n",
       "  'Saurabh Som'],\n",
       " ['Jill Demby Guest'],\n",
       " ['Rob Caprilozzi'],\n",
       " ['Stan Neumann'],\n",
       " ['Heidi Ewing', 'Rachel Grady'],\n",
       " ['Farhad Zamani'],\n",
       " ['Jan Troell'],\n",
       " ['Ibolya Bálint'],\n",
       " ['Janine Hosking'],\n",
       " ['Mike Hill'],\n",
       " ['Paul Detwiler'],\n",
       " ['Vlad Yudin'],\n",
       " ['Connie Field'],\n",
       " ['Ronald E. Shanin'],\n",
       " ['Mikiko Sasaki'],\n",
       " ['Lisa Laden'],\n",
       " ['Steve Cosmic'],\n",
       " ['E.A. Moore'],\n",
       " ['Greg MacGillivray'],\n",
       " ['Robert Frank'],\n",
       " ['Joan Brooker-Marks'],\n",
       " ['Greg Jacobs', 'Jon Siskel'],\n",
       " ['Sasha Meyerowitz'],\n",
       " ['Fernando Arroyo'],\n",
       " ['Parker Davis'],\n",
       " ['Garin Hovannisian'],\n",
       " ['Romano Vanderbes'],\n",
       " ['Marc Levin'],\n",
       " ['Chris Mortensen'],\n",
       " ['Lawrence Glesnes'],\n",
       " ['Frederick Wiseman'],\n",
       " ['Ariana Gerstein', 'Monteith McCollum'],\n",
       " ['Hal Weiner'],\n",
       " ['Nigel Askew'],\n",
       " ['John Grabowska'],\n",
       " ['Petur Einarsson'],\n",
       " ['Karl Emil Rikardsen'],\n",
       " ['Christian Blackwood', 'Michael Blackwood'],\n",
       " ['Keith Fulton', 'Louis Pepe'],\n",
       " ['Bill Rose'],\n",
       " ['Michael Tollin'],\n",
       " ['Bruce Schooley'],\n",
       " ['Bob Hercules'],\n",
       " ['Glenn Holsten'],\n",
       " ['Rodney Ascher'],\n",
       " ['Lisa Lax', 'Nancy Stern Winters'],\n",
       " ['Marston Sawyers'],\n",
       " ['Maj Wechselmann'],\n",
       " ['Elias Giannakakis'],\n",
       " ['Paul Sng'],\n",
       " ['Clint Lealos'],\n",
       " ['Jennifer Peedom'],\n",
       " ['Glenn Aveni'],\n",
       " ['Andrew Cagle', 'Lindsay Caudle'],\n",
       " ['Omegia Keeys'],\n",
       " ['Alfredo Castiglioni',\n",
       "  'Angelo Castiglioni',\n",
       "  'Guido Guerrasio',\n",
       "  'Oreste Pellini'],\n",
       " ['Sanjay Rawal'],\n",
       " ['Fabrizio Terranova'],\n",
       " ['Alison Klayman'],\n",
       " ['Wendy Roderweiss'],\n",
       " ['Don Argott'],\n",
       " ['Mikael Kristersson'],\n",
       " ['Harri Shanahan', 'Siân A. Williams'],\n",
       " ['Joslyn Rose Lyons'],\n",
       " ['Zelimir Zilnik'],\n",
       " ['Nathan Holt', 'Shawn Kornhauser'],\n",
       " ['Michael Barnes'],\n",
       " ['Tariq Nasheed'],\n",
       " ['Eric Black', 'Frauke Sandig'],\n",
       " ['Renzo Carbonera', 'Nicola Pittarello'],\n",
       " ['Mark Johnston', 'Mark A. Ryan'],\n",
       " ['Beth B'],\n",
       " ['Paul Frankl',\n",
       "  'Jason Bradbury',\n",
       "  'Stroma Cairns',\n",
       "  'Antonia Campbell-Hughes',\n",
       "  'Hope Dickson Leach',\n",
       "  'Ellen Evans'],\n",
       " ['Marcy Garriott'],\n",
       " ['Robert Bates'],\n",
       " ['Ray Laurent'],\n",
       " ['Phil Grabsky'],\n",
       " ['Steven Goldfried'],\n",
       " ['Savas Arslan'],\n",
       " ['Francisco Bermejo'],\n",
       " ['Gabriel Miller'],\n",
       " ['Philip Gardiner'],\n",
       " ['Shauna Jaeger Kartt'],\n",
       " ['Oscar Bucher'],\n",
       " ['Seederman'],\n",
       " ['Renée Godfrey', 'Matt Meech'],\n",
       " ['Jack Roberts'],\n",
       " ['Lawrence Crowley', 'William F. Miller'],\n",
       " ['Taylor Golonka'],\n",
       " ['Darius Clark Monroe'],\n",
       " ['Amalia Margolin', 'Oshra Schwartz'],\n",
       " ['Strephon Taylor'],\n",
       " ['Kirk Demorest'],\n",
       " ['Hank Levine'],\n",
       " ['Alan Bradley'],\n",
       " ['Anna Giannotis'],\n",
       " ['Wattanapume Laisuwanchai'],\n",
       " ['Joshua B. Pribanic', 'Melissa A. Troutman'],\n",
       " ['Erika Frankel'],\n",
       " ['Nic McLean'],\n",
       " ['Elisabet Cabeza', 'Esteve Riambau'],\n",
       " ['Robyn Hutman'],\n",
       " ['Solveig Melkeraaen'],\n",
       " ['Sean Stone', 'Pare Lorentz'],\n",
       " ['Patrice Pooyard'],\n",
       " ['Raphaël Millet'],\n",
       " ['Irene Taylor'],\n",
       " ['Tim Forbes'],\n",
       " ['Stephen Low'],\n",
       " ['Joel Katz'],\n",
       " ['Daniel Gordon'],\n",
       " ['Laura Longsworth'],\n",
       " ['Stig Björkman'],\n",
       " ['Harry Winer'],\n",
       " ['Chris James Thompson', 'Patrick Buckley'],\n",
       " ['Tell Aulin', 'Peter Gerdehag'],\n",
       " ['Bill Plympton'],\n",
       " ['Richard Martini'],\n",
       " ['Robert Kirk'],\n",
       " ['Pamela Cohen', 'Monona Wali'],\n",
       " ['Daniel Junge'],\n",
       " ['Torgny Anderberg'],\n",
       " ['Takashi Innami'],\n",
       " ['Peter Kerekes', 'Ivan Ostrochovský', 'Pavol Pekarcik'],\n",
       " ['Will Parrinello'],\n",
       " ['Jack Fisher'],\n",
       " ['Eric Murphy'],\n",
       " ['Rebecca Cammisa', 'Rob Fruchtman'],\n",
       " ['Bengt Anderson'],\n",
       " ['Marcelo Charras'],\n",
       " ['Christian Taylor'],\n",
       " ['Henry Grazinoli'],\n",
       " ['Suzanne Bauman'],\n",
       " ['Hugo Berkeley'],\n",
       " ['Gariné Torossian'],\n",
       " ['Kristi Zea'],\n",
       " ['Felicia Michaels'],\n",
       " ['Jeremy Norrie'],\n",
       " ['Miguel Rodríguez Arias', 'Fulvio Iannucci'],\n",
       " ['John Hazard'],\n",
       " ['Stephen Olsson'],\n",
       " ['Soren Johnstone'],\n",
       " ['Jim Wolpaw'],\n",
       " ['David Lasdon'],\n",
       " ['Barak Heymann'],\n",
       " ['John Forsen'],\n",
       " ['Paula Fouce', 'William Haugse'],\n",
       " ['Christophe Espenan'],\n",
       " ['Josiah Martin'],\n",
       " ['Sheona McDonald'],\n",
       " ['Carla Duarte'],\n",
       " ['Alan Berliner'],\n",
       " ['Matthew R. Brady'],\n",
       " ['Harun Farocki'],\n",
       " ['Darcy Weir'],\n",
       " ['Gabrielle Brady'],\n",
       " ['Gyula Gazdag'],\n",
       " ['Eddie Chung'],\n",
       " ['Gordon Lang'],\n",
       " ['James Honeyborne'],\n",
       " ['Marshall Curry'],\n",
       " ['Ben Burtt'],\n",
       " ['Emma Sullivan'],\n",
       " ['Daniel L. Bernardi'],\n",
       " ['Amadeuz Christ'],\n",
       " ['Gary Marcuse'],\n",
       " ['Connie Field', 'Judith Montell'],\n",
       " ['David Munro'],\n",
       " ['Kyle Gehring'],\n",
       " ['Shannon Kelley'],\n",
       " ['Simon Trevor'],\n",
       " ['Roger Sherman'],\n",
       " ['Lilly Scourtis Ayers'],\n",
       " ['Steven Ascher', 'Jeanne Jordan'],\n",
       " ['Alonso Ruizpalacios'],\n",
       " ['Joel L. Freedman'],\n",
       " ['Phil Grabsky'],\n",
       " ['James Rutenbeck'],\n",
       " ['Connie Field'],\n",
       " ['Mel Stuart'],\n",
       " ['Scott Gormley'],\n",
       " ['Luc Jacquet'],\n",
       " ['Thomas Edward Seymour'],\n",
       " ['Marc Ostrick'],\n",
       " ['Shakun Batra'],\n",
       " ['Henrik Georgsson'],\n",
       " ['Stavros Psyllakis'],\n",
       " ['Gabriele Salvatores'],\n",
       " [\"Ashley O'Shay\"],\n",
       " ['Joseph Levy'],\n",
       " ['Bruce Seth Green'],\n",
       " ['Diane Zander'],\n",
       " ['Joshua Aukai Ligairi'],\n",
       " ['Will Watson'],\n",
       " ['Roger Lay Jr.'],\n",
       " ['Philippe Lanfranchi'],\n",
       " ['Mary Jimenez', 'Bénédicte Liénard'],\n",
       " ['Geoffrey Rogers'],\n",
       " ['Anthony T. Miles'],\n",
       " ['Konstantin Bojanov'],\n",
       " ['Marcer Andersen'],\n",
       " ['Tom Wyrsch'],\n",
       " ['Megan Mylan', 'Jon Shenk'],\n",
       " ['Oren Rudavsky'],\n",
       " ['Darryl Pitts'],\n",
       " ['Franco Fracassi', 'Francesco Trento'],\n",
       " ['Jake Bexx'],\n",
       " ['Rick Rowley'],\n",
       " ['Caroline Berler'],\n",
       " ['Serkan Koç'],\n",
       " ['Rodrigo Otero Heraud'],\n",
       " ['Karl Sabbagh'],\n",
       " ['Micheal Rice'],\n",
       " ['Jacques Cluzaud'],\n",
       " ['Susan Hess'],\n",
       " ['Nelly Ben Hayoun'],\n",
       " ['Susan Froemke'],\n",
       " ['Dale Holland', 'Frank Newcomb', 'Michael Redd', 'Pat Rocco', 'Seth'],\n",
       " ['David Laven', 'Darryl Phillips'],\n",
       " ['Adrian Buitenhuis'],\n",
       " ['Chip Richie'],\n",
       " ['Erich F. Bender'],\n",
       " ['Samuel Turcotte', 'Jim Van Bebber'],\n",
       " ['Stephen C. Mitchell'],\n",
       " ['David Velo Stewart'],\n",
       " ['Steve Mims'],\n",
       " ['Ray Ellin'],\n",
       " ['Chris Durant'],\n",
       " ['Benjamin Bergmann', 'Jono Bergmann'],\n",
       " ['Declan Maynes'],\n",
       " ['Roger Williams'],\n",
       " ['Kate Ryan Brewer'],\n",
       " ['Patty Greer'],\n",
       " ['Stuart Cameron'],\n",
       " ['Cao Guimarães'],\n",
       " ['Elise Joseph'],\n",
       " ['Alan Bloom', 'Julian Gomez'],\n",
       " ['Tony Comstock'],\n",
       " ['Geraldine Brezca'],\n",
       " ['Karri V. Bowman'],\n",
       " ['Giovanni Troilo'],\n",
       " ['Tom Jennings'],\n",
       " ['Russ Meyer'],\n",
       " ['Shaun Monson'],\n",
       " ['Kristin Rizzo'],\n",
       " ['Daniel Griffith'],\n",
       " ['Bernadette Wegenstein'],\n",
       " ...]"
      ]
     },
     "execution_count": 51,
     "metadata": {},
     "output_type": "execute_result"
    }
   ],
   "source": [
    "# compute and store the answer in the variable 'max_docu_rating_directors', then display it\n",
    "max_docu_rating_directors = []\n",
    "highest_rating = None\n",
    "\n",
    "for movie in genre_dict[\"Documentary\"]:\n",
    "    if highest_rating == None or movie[\"rating\"] > highest_rating:\n",
    "        movie[\"rating\"] = highest_rating\n",
    "        \n",
    "for movie in genre_dict[\"Documentary\"]:\n",
    "    if movie[\"rating\"] == highest_rating:\n",
    "        max_docu_rating_directors.append(movie[\"directors\"])\n",
    "        \n",
    "max_docu_rating_directors"
   ]
  },
  {
   "cell_type": "code",
   "execution_count": 52,
   "id": "56505bf1",
   "metadata": {
    "deletable": false,
    "editable": false
   },
   "outputs": [
    {
     "data": {
      "text/html": [
       "<p><strong style='color: red;'><pre style='display: inline;'>q20</pre> results:</strong></p><p><strong><pre style='display: inline;'>q20 - 1</pre> result:</strong></p><pre>    Trying:\n",
       "        p8_test.check(\"q20\", max_docu_rating_directors)\n",
       "    Expecting:\n",
       "        True\n",
       "    **********************************************************************\n",
       "    Line 1, in q20 0\n",
       "    Failed example:\n",
       "        p8_test.check(\"q20\", max_docu_rating_directors)\n",
       "    Expected:\n",
       "        True\n",
       "    Got:\n",
       "        <b style='color: red;'>ERROR:</b> in the list, expected to find type str but found type list\n",
       "</pre>"
      ],
      "text/plain": [
       "q20 results:\n",
       "    q20 - 1 result:\n",
       "        Trying:\n",
       "            p8_test.check(\"q20\", max_docu_rating_directors)\n",
       "        Expecting:\n",
       "            True\n",
       "        **********************************************************************\n",
       "        Line 1, in q20 0\n",
       "        Failed example:\n",
       "            p8_test.check(\"q20\", max_docu_rating_directors)\n",
       "        Expected:\n",
       "            True\n",
       "        Got:\n",
       "            <b style='color: red;'>ERROR:</b> in the list, expected to find type str but found type list"
      ]
     },
     "execution_count": 52,
     "metadata": {},
     "output_type": "execute_result"
    }
   ],
   "source": [
    "grader.check(\"q20\")"
   ]
  },
  {
   "cell_type": "markdown",
   "id": "0d5d6800",
   "metadata": {
    "deletable": false,
    "editable": false
   },
   "source": [
    "## Submission\n",
    "Make sure you have run all cells in your notebook in order before running the following cells, so that all images/graphs appear in the output.\n",
    "It is recommended that at this stage, you Restart and Run all Cells in your notebook.\n",
    "That will automatically save your work and generate a zip file for you to submit.\n",
    "\n",
    "**SUBMISSION INSTRUCTIONS**:\n",
    "1. **Upload** the zipfile to Gradescope.\n",
    "2. Check **Gradescope otter** results as soon as the auto-grader execution gets completed. Don't worry about the score showing up as -/100.0. You only need to check that the test cases passed."
   ]
  },
  {
   "cell_type": "code",
   "execution_count": null,
   "id": "82b86e8c",
   "metadata": {
    "cell_type": "code",
    "deletable": false,
    "editable": false
   },
   "outputs": [],
   "source": [
    "# running this cell will create a new save checkpoint for your notebook\n",
    "from IPython.display import display, Javascript\n",
    "display(Javascript('IPython.notebook.save_checkpoint();'))"
   ]
  },
  {
   "cell_type": "code",
   "execution_count": null,
   "id": "d6c0f1cd",
   "metadata": {
    "cell_type": "code",
    "deletable": false,
    "editable": false
   },
   "outputs": [],
   "source": [
    "!jupytext --to py p8.ipynb"
   ]
  },
  {
   "cell_type": "code",
   "execution_count": null,
   "id": "35cc4a4c",
   "metadata": {
    "cell_type": "code",
    "deletable": false,
    "editable": false
   },
   "outputs": [],
   "source": [
    "p8_test.check_file_size(\"p8.ipynb\")\n",
    "grader.export(pdf=False, run_tests=True, files=[py_filename])"
   ]
  },
  {
   "cell_type": "markdown",
   "id": "d6efaf4e",
   "metadata": {
    "deletable": false,
    "editable": false
   },
   "source": [
    " "
   ]
  }
 ],
 "metadata": {
  "kernelspec": {
   "display_name": "Python 3 (ipykernel)",
   "language": "python",
   "name": "python3"
  },
  "language_info": {
   "codemirror_mode": {
    "name": "ipython",
    "version": 3
   },
   "file_extension": ".py",
   "mimetype": "text/x-python",
   "name": "python",
   "nbconvert_exporter": "python",
   "pygments_lexer": "ipython3",
   "version": "3.9.12"
  },
  "otter": {
   "OK_FORMAT": true,
   "tests": {
    "q1": {
     "name": "q1",
     "points": 5,
     "suites": [
      {
       "cases": [
        {
         "code": ">>> p8_test.check(\"q1\", small_mapping)\nTrue",
         "hidden": false,
         "locked": false
        }
       ],
       "scored": true,
       "setup": "",
       "teardown": "",
       "type": "doctest"
      }
     ]
    },
    "q10": {
     "name": "q10",
     "points": 5,
     "suites": [
      {
       "cases": [
        {
         "code": ">>> p8_test.check(\"q10\", second_movie_cast_small_movies)\nTrue",
         "hidden": false,
         "locked": false
        }
       ],
       "scored": true,
       "setup": "",
       "teardown": "",
       "type": "doctest"
      }
     ]
    },
    "q11": {
     "name": "q11",
     "points": 5,
     "suites": [
      {
       "cases": [
        {
         "code": ">>> p8_test.check(\"q11\", last_movie_directors_small_movies)\nTrue",
         "hidden": false,
         "locked": false
        }
       ],
       "scored": true,
       "setup": "",
       "teardown": "",
       "type": "doctest"
      }
     ]
    },
    "q12": {
     "name": "q12",
     "points": 5,
     "suites": [
      {
       "cases": [
        {
         "code": ">>> p8_test.check(\"q12\", movies_20200_20220)\nTrue",
         "hidden": false,
         "locked": false
        }
       ],
       "scored": true,
       "setup": "",
       "teardown": "",
       "type": "doctest"
      }
     ]
    },
    "q13": {
     "name": "q13",
     "points": 5,
     "suites": [
      {
       "cases": [
        {
         "code": ">>> p8_test.check(\"q13\", num_movies_2018)\nTrue",
         "hidden": false,
         "locked": false
        }
       ],
       "scored": true,
       "setup": "",
       "teardown": "",
       "type": "doctest"
      }
     ]
    },
    "q14": {
     "name": "q14",
     "points": 5,
     "suites": [
      {
       "cases": [
        {
         "code": ">>> p8_test.check(\"q14\", hepburn_films)\nTrue",
         "hidden": false,
         "locked": false
        }
       ],
       "scored": true,
       "setup": "",
       "teardown": "",
       "type": "doctest"
      }
     ]
    },
    "q15": {
     "name": "q15",
     "points": 5,
     "suites": [
      {
       "cases": [
        {
         "code": ">>> p8_test.check(\"q15\", wisconsin_movies)\nTrue",
         "hidden": false,
         "locked": false
        }
       ],
       "scored": true,
       "setup": "",
       "teardown": "",
       "type": "doctest"
      }
     ]
    },
    "q16": {
     "name": "q16",
     "points": 5,
     "suites": [
      {
       "cases": [
        {
         "code": ">>> p8_test.check(\"q16\", num_genres)\nTrue",
         "hidden": false,
         "locked": false
        }
       ],
       "scored": true,
       "setup": "",
       "teardown": "",
       "type": "doctest"
      }
     ]
    },
    "q17": {
     "name": "q17",
     "points": 5,
     "suites": [
      {
       "cases": [
        {
         "code": ">>> p8_test.check(\"q17\", music_after_2019)\nTrue",
         "hidden": false,
         "locked": false
        }
       ],
       "scored": true,
       "setup": "",
       "teardown": "",
       "type": "doctest"
      }
     ]
    },
    "q18": {
     "name": "q18",
     "points": 5,
     "suites": [
      {
       "cases": [
        {
         "code": ">>> p8_test.check(\"q18\", horror_movies_above_9)\nTrue",
         "hidden": false,
         "locked": false
        }
       ],
       "scored": true,
       "setup": "",
       "teardown": "",
       "type": "doctest"
      }
     ]
    },
    "q19": {
     "name": "q19",
     "points": 5,
     "suites": [
      {
       "cases": [
        {
         "code": ">>> p8_test.check(\"q19\", jen_aniston_genre)\nTrue",
         "hidden": false,
         "locked": false
        }
       ],
       "scored": true,
       "setup": "",
       "teardown": "",
       "type": "doctest"
      }
     ]
    },
    "q2": {
     "name": "q2",
     "points": 5,
     "suites": [
      {
       "cases": [
        {
         "code": ">>> p8_test.check(\"q2\", nm2110418_value)\nTrue",
         "hidden": false,
         "locked": false
        }
       ],
       "scored": true,
       "setup": "",
       "teardown": "",
       "type": "doctest"
      }
     ]
    },
    "q20": {
     "name": "q20",
     "points": 5,
     "suites": [
      {
       "cases": [
        {
         "code": ">>> p8_test.check(\"q20\", max_docu_rating_directors)\nTrue",
         "hidden": false,
         "locked": false
        }
       ],
       "scored": true,
       "setup": "",
       "teardown": "",
       "type": "doctest"
      }
     ]
    },
    "q3": {
     "name": "q3",
     "points": 5,
     "suites": [
      {
       "cases": [
        {
         "code": ">>> p8_test.check(\"q3\", nm_values)\nTrue",
         "hidden": false,
         "locked": false
        }
       ],
       "scored": true,
       "setup": "",
       "teardown": "",
       "type": "doctest"
      }
     ]
    },
    "q4": {
     "name": "q4",
     "points": 5,
     "suites": [
      {
       "cases": [
        {
         "code": ">>> p8_test.check(\"q4\", nm_spencer)\nTrue",
         "hidden": false,
         "locked": false
        }
       ],
       "scored": true,
       "setup": "",
       "teardown": "",
       "type": "doctest"
      }
     ]
    },
    "q5": {
     "name": "q5",
     "points": 5,
     "suites": [
      {
       "cases": [
        {
         "code": ">>> p8_test.check(\"q5\", raw_small_movies)\nTrue",
         "hidden": false,
         "locked": false
        }
       ],
       "scored": true,
       "setup": "",
       "teardown": "",
       "type": "doctest"
      }
     ]
    },
    "q6": {
     "name": "q6",
     "points": 5,
     "suites": [
      {
       "cases": [
        {
         "code": ">>> p8_test.check(\"q6\", num_cast_first_movie)\nTrue",
         "hidden": false,
         "locked": false
        }
       ],
       "scored": true,
       "setup": "",
       "teardown": "",
       "type": "doctest"
      }
     ]
    },
    "q7": {
     "name": "q7",
     "points": 5,
     "suites": [
      {
       "cases": [
        {
         "code": ">>> p8_test.check(\"q7\", first_actor_id_first_movie)\nTrue",
         "hidden": false,
         "locked": false
        }
       ],
       "scored": true,
       "setup": "",
       "teardown": "",
       "type": "doctest"
      }
     ]
    },
    "q8": {
     "name": "q8",
     "points": 5,
     "suites": [
      {
       "cases": [
        {
         "code": ">>> p8_test.check(\"q8\", small_movies_data)\nTrue",
         "hidden": false,
         "locked": false
        }
       ],
       "scored": true,
       "setup": "",
       "teardown": "",
       "type": "doctest"
      }
     ]
    },
    "q9": {
     "name": "q9",
     "points": 5,
     "suites": [
      {
       "cases": [
        {
         "code": ">>> p8_test.check(\"q9\", second_movie_title_small_movies)\nTrue",
         "hidden": false,
         "locked": false
        }
       ],
       "scored": true,
       "setup": "",
       "teardown": "",
       "type": "doctest"
      }
     ]
    }
   }
  },
  "vscode": {
   "interpreter": {
    "hash": "ddadfa966245fdd88d86598ab7fd899e4c6b5bf38d3fe509005bdb7f4648c1a5"
   }
  }
 },
 "nbformat": 4,
 "nbformat_minor": 5
}
